{
 "cells": [
  {
   "cell_type": "markdown",
   "metadata": {},
   "source": [
    "## 1. Pandas\n",
    "\n",
    "<div align=\"left\">\n",
    "    <img src=\"pandas_logo.png\">\n",
    "</div>\n",
    "\n",
    "- comes with the Anaconda distribution of Python\n",
    "- an open source library used for data manipulation and analysis\n",
    "- offers data structures and operations for manipulating numerical tables and time series\n",
    "- 2 main data structures: Series and DataFrame\n",
    "- good for importing and exporting data to and from various data sources (csv, Excel, database)\n",
    "- it's convention to alias pandas as pd for brevity"
   ]
  },
  {
   "cell_type": "code",
   "execution_count": 1,
   "metadata": {},
   "outputs": [],
   "source": [
    "import pandas as pd\n",
    "import numpy as np"
   ]
  },
  {
   "cell_type": "markdown",
   "metadata": {},
   "source": [
    "## 2. Series\n",
    "<div algin=\"left\">\n",
    "<img src=\"ser1.png\" width=\"20%\" height=\"20%\">\n",
    "</div>\n",
    "\n",
    "\n",
    "Series objects are made up of two arrays\n",
    "- a N-dimensional container of items with a specified data type (similar to the NumPy array)\n",
    "- the second is an array index, which by default uses zero-based numbering (the index starts with 0 and not 1) but can be explicitly defined\n",
    "- can hold any data type\n",
    "- think of it as a row or column of data"
   ]
  },
  {
   "cell_type": "code",
   "execution_count": 2,
   "metadata": {},
   "outputs": [
    {
     "data": {
      "text/plain": [
       "array([9, 9, 7, 9, 7, 9, 9, 6, 9, 6])"
      ]
     },
     "execution_count": 2,
     "metadata": {},
     "output_type": "execute_result"
    }
   ],
   "source": [
    "data = np.random.randint(5, 10, 10)\n",
    "data"
   ]
  },
  {
   "cell_type": "code",
   "execution_count": 3,
   "metadata": {},
   "outputs": [
    {
     "data": {
      "text/plain": [
       "0    9\n",
       "1    9\n",
       "2    7\n",
       "3    9\n",
       "4    7\n",
       "5    9\n",
       "6    9\n",
       "7    6\n",
       "dtype: int32"
      ]
     },
     "execution_count": 3,
     "metadata": {},
     "output_type": "execute_result"
    }
   ],
   "source": [
    "s = pd.Series(data = data)\n",
    "\n",
    "# .head() method:\n",
    "#  - Return the first n rows\n",
    "#  - Default is first 5 rows\n",
    "\n",
    "s.head(8)"
   ]
  },
  {
   "cell_type": "markdown",
   "metadata": {},
   "source": [
    "Creating a Series from a list"
   ]
  },
  {
   "cell_type": "code",
   "execution_count": 4,
   "metadata": {},
   "outputs": [
    {
     "data": {
      "text/plain": [
       "0    2\n",
       "1    5\n",
       "2    2\n",
       "3    6\n",
       "4    8\n",
       "5    7\n",
       "Name: df_column_name, dtype: int64"
      ]
     },
     "execution_count": 4,
     "metadata": {},
     "output_type": "execute_result"
    }
   ],
   "source": [
    "s = pd.Series([2, 5, 2, 6, 8, 7], name='df_column_name')\n",
    "s"
   ]
  },
  {
   "cell_type": "markdown",
   "metadata": {},
   "source": [
    "Creating a Series from a tuple"
   ]
  },
  {
   "cell_type": "code",
   "execution_count": 5,
   "metadata": {},
   "outputs": [
    {
     "data": {
      "text/plain": [
       "0    3\n",
       "1    5\n",
       "2    4\n",
       "3    5\n",
       "4    7\n",
       "5    4\n",
       "dtype: int64"
      ]
     },
     "execution_count": 5,
     "metadata": {},
     "output_type": "execute_result"
    }
   ],
   "source": [
    "s = pd.Series((3, 5, 4, 5, 7, 4))\n",
    "s"
   ]
  },
  {
   "cell_type": "markdown",
   "metadata": {},
   "source": [
    "### Series Index\n",
    "- A Series with an index"
   ]
  },
  {
   "cell_type": "code",
   "execution_count": 6,
   "metadata": {},
   "outputs": [
    {
     "data": {
      "text/plain": [
       "array([0.73947633, 0.92038891, 0.41764179, 0.15032443, 0.19317222,\n",
       "       0.21897396, 0.02890426, 0.65542437, 0.65948988, 0.14028692])"
      ]
     },
     "execution_count": 6,
     "metadata": {},
     "output_type": "execute_result"
    }
   ],
   "source": [
    "data = np.random.random(10)\n",
    "data"
   ]
  },
  {
   "cell_type": "code",
   "execution_count": 7,
   "metadata": {},
   "outputs": [
    {
     "data": {
      "text/plain": [
       "DatetimeIndex(['2019-01-01', '2019-01-02', '2019-01-03', '2019-01-04',\n",
       "               '2019-01-05', '2019-01-06', '2019-01-07', '2019-01-08',\n",
       "               '2019-01-09', '2019-01-10'],\n",
       "              dtype='datetime64[ns]', freq='D')"
      ]
     },
     "execution_count": 7,
     "metadata": {},
     "output_type": "execute_result"
    }
   ],
   "source": [
    "date_index = pd.date_range('2019-01-01', periods=len(data))\n",
    "date_index"
   ]
  },
  {
   "cell_type": "code",
   "execution_count": 8,
   "metadata": {},
   "outputs": [
    {
     "data": {
      "text/plain": [
       "2019-01-01    0.739476\n",
       "2019-01-02    0.920389\n",
       "2019-01-03    0.417642\n",
       "2019-01-04    0.150324\n",
       "2019-01-05    0.193172\n",
       "2019-01-06    0.218974\n",
       "2019-01-07    0.028904\n",
       "2019-01-08    0.655424\n",
       "2019-01-09    0.659490\n",
       "2019-01-10    0.140287\n",
       "Freq: D, Name: VolatileStock, dtype: float64"
      ]
     },
     "execution_count": 8,
     "metadata": {},
     "output_type": "execute_result"
    }
   ],
   "source": [
    "s = pd.Series(data, date_index, name=\"VolatileStock\")\n",
    "s.head(10)"
   ]
  },
  {
   "cell_type": "markdown",
   "metadata": {},
   "source": [
    "### Arithmetic with Series\n",
    "- Series can perform many arithmetic operations\n",
    "\n",
    "<div>\n",
    "    <img src=\"ao.png\">\n",
    "</div>"
   ]
  },
  {
   "cell_type": "code",
   "execution_count": 9,
   "metadata": {},
   "outputs": [
    {
     "name": "stdout",
     "output_type": "stream",
     "text": [
      "s1:\n",
      "0    0\n",
      "1    1\n",
      "2    2\n",
      "3    3\n",
      "4    4\n",
      "dtype: int64\n",
      "\n",
      "\n",
      "s2:\n",
      "0    0\n",
      "1    1\n",
      "2    2\n",
      "3    3\n",
      "4    4\n",
      "dtype: int64\n",
      "\n",
      "\n",
      "The sum of s1 and s2:\n",
      "0    0\n",
      "1    2\n",
      "2    4\n",
      "3    6\n",
      "4    8\n",
      "dtype: int64\n"
     ]
    }
   ],
   "source": [
    "s1 = pd.Series([0, 1, 2, 3, 4])\n",
    "s2 = pd.Series(range(5))\n",
    "\n",
    "print('s1:\\n{}'.format(s1))\n",
    "print('\\n')\n",
    "print(f's2:\\n{s2}')\n",
    "print('\\n')\n",
    "print(f'The sum of s1 and s2:\\n{s1 + s2}')"
   ]
  },
  {
   "cell_type": "code",
   "execution_count": 10,
   "metadata": {},
   "outputs": [
    {
     "data": {
      "text/plain": [
       "0    0\n",
       "1    2\n",
       "2    4\n",
       "3    6\n",
       "4    8\n",
       "dtype: int64"
      ]
     },
     "execution_count": 10,
     "metadata": {},
     "output_type": "execute_result"
    }
   ],
   "source": [
    "s1 + s2"
   ]
  },
  {
   "cell_type": "markdown",
   "metadata": {},
   "source": [
    "Series s1 multiplied by Series s2"
   ]
  },
  {
   "cell_type": "code",
   "execution_count": 11,
   "metadata": {},
   "outputs": [
    {
     "data": {
      "text/plain": [
       "0     0\n",
       "1     1\n",
       "2     4\n",
       "3     9\n",
       "4    16\n",
       "dtype: int64"
      ]
     },
     "execution_count": 11,
     "metadata": {},
     "output_type": "execute_result"
    }
   ],
   "source": [
    "s1 * s2"
   ]
  },
  {
   "cell_type": "markdown",
   "metadata": {},
   "source": [
    "Series s1 multiplied by an integer / scalar"
   ]
  },
  {
   "cell_type": "code",
   "execution_count": 12,
   "metadata": {},
   "outputs": [
    {
     "data": {
      "text/plain": [
       "0     0\n",
       "1     5\n",
       "2    10\n",
       "3    15\n",
       "4    20\n",
       "dtype: int64"
      ]
     },
     "execution_count": 12,
     "metadata": {},
     "output_type": "execute_result"
    }
   ],
   "source": [
    "s1 * 5"
   ]
  },
  {
   "cell_type": "markdown",
   "metadata": {},
   "source": [
    "## 3. DataFrame\n",
    "\n",
    "<div align=\"left\">\n",
    "    <img src=\"df.png\" height=\"100%\" width=\"100%\">\n",
    "</div>\n",
    "\n",
    "- a heterogeneous tabular data structure with labeled axes (rows and columns) and is based off of the NumPy library.\n",
    "- can contain various data of different data types.\n",
    "- each column is a Series object\n",
    "- can be constructed in from various objects or data sources (Python dictionary, Excel file, CSV file, SQL query)"
   ]
  },
  {
   "cell_type": "markdown",
   "metadata": {},
   "source": [
    "### Creating DataFrame from Scratch\n",
    "`pandas.DataFrame(data=None, index=None, columns=None, dtype=None)`\n",
    "- data : numpy ndarray\n",
    "- index : Index or array-like\n",
    "    Index to use for resulting frame.   \n",
    "- columns : Index or array-like\n",
    "    Column labels to use for resulting frame.    \n",
    "- dtype : dtype, default None\n",
    "    Data type to force.\n"
   ]
  },
  {
   "cell_type": "code",
   "execution_count": 13,
   "metadata": {},
   "outputs": [],
   "source": [
    "data = np.random.randint(1, 30, 60).reshape(15, 4)\n",
    "columns = ['Apples', 'Pears', 'Oranges', 'Grapefruit']\n",
    "index = pd.date_range(start='2000-01-01', periods=len(data))"
   ]
  },
  {
   "cell_type": "markdown",
   "metadata": {},
   "source": [
    "<img src=\"fd.png\" style=\"margin-left:0px\">"
   ]
  },
  {
   "cell_type": "code",
   "execution_count": null,
   "metadata": {},
   "outputs": [],
   "source": [
    "##print(f'Data: \\n{data}\\n\\n'\n",
    "##     + 'Columns: \\n%s\\n\\n' % columns\n",
    "##     + 'Index: \\n{}'.format(index))"
   ]
  },
  {
   "cell_type": "code",
   "execution_count": 14,
   "metadata": {},
   "outputs": [
    {
     "data": {
      "text/html": [
       "<div>\n",
       "<style scoped>\n",
       "    .dataframe tbody tr th:only-of-type {\n",
       "        vertical-align: middle;\n",
       "    }\n",
       "\n",
       "    .dataframe tbody tr th {\n",
       "        vertical-align: top;\n",
       "    }\n",
       "\n",
       "    .dataframe thead th {\n",
       "        text-align: right;\n",
       "    }\n",
       "</style>\n",
       "<table border=\"1\" class=\"dataframe\">\n",
       "  <thead>\n",
       "    <tr style=\"text-align: right;\">\n",
       "      <th></th>\n",
       "      <th>Apples</th>\n",
       "      <th>Pears</th>\n",
       "      <th>Oranges</th>\n",
       "      <th>Grapefruit</th>\n",
       "    </tr>\n",
       "  </thead>\n",
       "  <tbody>\n",
       "    <tr>\n",
       "      <th>2000-01-01</th>\n",
       "      <td>28</td>\n",
       "      <td>4</td>\n",
       "      <td>24</td>\n",
       "      <td>3</td>\n",
       "    </tr>\n",
       "    <tr>\n",
       "      <th>2000-01-02</th>\n",
       "      <td>5</td>\n",
       "      <td>11</td>\n",
       "      <td>2</td>\n",
       "      <td>17</td>\n",
       "    </tr>\n",
       "    <tr>\n",
       "      <th>2000-01-03</th>\n",
       "      <td>20</td>\n",
       "      <td>23</td>\n",
       "      <td>2</td>\n",
       "      <td>8</td>\n",
       "    </tr>\n",
       "    <tr>\n",
       "      <th>2000-01-04</th>\n",
       "      <td>14</td>\n",
       "      <td>28</td>\n",
       "      <td>7</td>\n",
       "      <td>7</td>\n",
       "    </tr>\n",
       "    <tr>\n",
       "      <th>2000-01-05</th>\n",
       "      <td>27</td>\n",
       "      <td>18</td>\n",
       "      <td>23</td>\n",
       "      <td>22</td>\n",
       "    </tr>\n",
       "    <tr>\n",
       "      <th>2000-01-06</th>\n",
       "      <td>1</td>\n",
       "      <td>10</td>\n",
       "      <td>13</td>\n",
       "      <td>12</td>\n",
       "    </tr>\n",
       "    <tr>\n",
       "      <th>2000-01-07</th>\n",
       "      <td>23</td>\n",
       "      <td>15</td>\n",
       "      <td>22</td>\n",
       "      <td>3</td>\n",
       "    </tr>\n",
       "    <tr>\n",
       "      <th>2000-01-08</th>\n",
       "      <td>26</td>\n",
       "      <td>25</td>\n",
       "      <td>1</td>\n",
       "      <td>15</td>\n",
       "    </tr>\n",
       "    <tr>\n",
       "      <th>2000-01-09</th>\n",
       "      <td>1</td>\n",
       "      <td>29</td>\n",
       "      <td>8</td>\n",
       "      <td>6</td>\n",
       "    </tr>\n",
       "    <tr>\n",
       "      <th>2000-01-10</th>\n",
       "      <td>18</td>\n",
       "      <td>11</td>\n",
       "      <td>5</td>\n",
       "      <td>18</td>\n",
       "    </tr>\n",
       "    <tr>\n",
       "      <th>2000-01-11</th>\n",
       "      <td>9</td>\n",
       "      <td>3</td>\n",
       "      <td>9</td>\n",
       "      <td>16</td>\n",
       "    </tr>\n",
       "    <tr>\n",
       "      <th>2000-01-12</th>\n",
       "      <td>1</td>\n",
       "      <td>22</td>\n",
       "      <td>10</td>\n",
       "      <td>5</td>\n",
       "    </tr>\n",
       "    <tr>\n",
       "      <th>2000-01-13</th>\n",
       "      <td>24</td>\n",
       "      <td>16</td>\n",
       "      <td>3</td>\n",
       "      <td>6</td>\n",
       "    </tr>\n",
       "    <tr>\n",
       "      <th>2000-01-14</th>\n",
       "      <td>15</td>\n",
       "      <td>11</td>\n",
       "      <td>12</td>\n",
       "      <td>18</td>\n",
       "    </tr>\n",
       "    <tr>\n",
       "      <th>2000-01-15</th>\n",
       "      <td>16</td>\n",
       "      <td>22</td>\n",
       "      <td>18</td>\n",
       "      <td>25</td>\n",
       "    </tr>\n",
       "  </tbody>\n",
       "</table>\n",
       "</div>"
      ],
      "text/plain": [
       "            Apples  Pears  Oranges  Grapefruit\n",
       "2000-01-01      28      4       24           3\n",
       "2000-01-02       5     11        2          17\n",
       "2000-01-03      20     23        2           8\n",
       "2000-01-04      14     28        7           7\n",
       "2000-01-05      27     18       23          22\n",
       "2000-01-06       1     10       13          12\n",
       "2000-01-07      23     15       22           3\n",
       "2000-01-08      26     25        1          15\n",
       "2000-01-09       1     29        8           6\n",
       "2000-01-10      18     11        5          18\n",
       "2000-01-11       9      3        9          16\n",
       "2000-01-12       1     22       10           5\n",
       "2000-01-13      24     16        3           6\n",
       "2000-01-14      15     11       12          18\n",
       "2000-01-15      16     22       18          25"
      ]
     },
     "execution_count": 14,
     "metadata": {},
     "output_type": "execute_result"
    }
   ],
   "source": [
    "df = pd.DataFrame(data=data, columns=columns, index=index)\n",
    "df"
   ]
  },
  {
   "cell_type": "code",
   "execution_count": 15,
   "metadata": {},
   "outputs": [
    {
     "data": {
      "text/plain": [
       "{'Apples': array([7, 2, 2, 5, 5, 6, 7, 3, 7, 3]),\n",
       " 'Pears': array([8, 3, 8, 3, 5, 9, 6, 3, 7, 7]),\n",
       " 'Oranges': array([ 2, 28, 16, 18, 13,  7,  3,  1, 11, 19]),\n",
       " 'Grapefruit': array([ 4,  7, 11,  3,  5,  2, 10,  5, 10, 10])}"
      ]
     },
     "execution_count": 15,
     "metadata": {},
     "output_type": "execute_result"
    }
   ],
   "source": [
    "index = pd.date_range(start='2000-01-01', periods=10)\n",
    "\n",
    "data_dict = {'Apples':np.random.randint(2,8,10),\n",
    "             'Pears':np.random.randint(3,10,10),\n",
    "             'Oranges':np.random.randint(1,50,10),\n",
    "             'Grapefruit':np.random.randint(2,12,10)}\n",
    "\n",
    "data_dict"
   ]
  },
  {
   "cell_type": "code",
   "execution_count": 16,
   "metadata": {},
   "outputs": [
    {
     "data": {
      "text/html": [
       "<div>\n",
       "<style scoped>\n",
       "    .dataframe tbody tr th:only-of-type {\n",
       "        vertical-align: middle;\n",
       "    }\n",
       "\n",
       "    .dataframe tbody tr th {\n",
       "        vertical-align: top;\n",
       "    }\n",
       "\n",
       "    .dataframe thead th {\n",
       "        text-align: right;\n",
       "    }\n",
       "</style>\n",
       "<table border=\"1\" class=\"dataframe\">\n",
       "  <thead>\n",
       "    <tr style=\"text-align: right;\">\n",
       "      <th></th>\n",
       "      <th>Apples</th>\n",
       "      <th>Pears</th>\n",
       "      <th>Oranges</th>\n",
       "      <th>Grapefruit</th>\n",
       "    </tr>\n",
       "  </thead>\n",
       "  <tbody>\n",
       "    <tr>\n",
       "      <th>2000-01-01</th>\n",
       "      <td>7</td>\n",
       "      <td>8</td>\n",
       "      <td>2</td>\n",
       "      <td>4</td>\n",
       "    </tr>\n",
       "    <tr>\n",
       "      <th>2000-01-02</th>\n",
       "      <td>2</td>\n",
       "      <td>3</td>\n",
       "      <td>28</td>\n",
       "      <td>7</td>\n",
       "    </tr>\n",
       "    <tr>\n",
       "      <th>2000-01-03</th>\n",
       "      <td>2</td>\n",
       "      <td>8</td>\n",
       "      <td>16</td>\n",
       "      <td>11</td>\n",
       "    </tr>\n",
       "    <tr>\n",
       "      <th>2000-01-04</th>\n",
       "      <td>5</td>\n",
       "      <td>3</td>\n",
       "      <td>18</td>\n",
       "      <td>3</td>\n",
       "    </tr>\n",
       "    <tr>\n",
       "      <th>2000-01-05</th>\n",
       "      <td>5</td>\n",
       "      <td>5</td>\n",
       "      <td>13</td>\n",
       "      <td>5</td>\n",
       "    </tr>\n",
       "  </tbody>\n",
       "</table>\n",
       "</div>"
      ],
      "text/plain": [
       "            Apples  Pears  Oranges  Grapefruit\n",
       "2000-01-01       7      8        2           4\n",
       "2000-01-02       2      3       28           7\n",
       "2000-01-03       2      8       16          11\n",
       "2000-01-04       5      3       18           3\n",
       "2000-01-05       5      5       13           5"
      ]
     },
     "execution_count": 16,
     "metadata": {},
     "output_type": "execute_result"
    }
   ],
   "source": [
    "pd.DataFrame(data_dict, index=index).head()"
   ]
  },
  {
   "cell_type": "markdown",
   "metadata": {},
   "source": [
    "### DataFrame Axis\n",
    "\n",
    "- The pandas DataFrame has two axis 0 (rows) and 1 (columns)\n",
    "- The pandas DataFrame also has two separate indices"
   ]
  },
  {
   "cell_type": "markdown",
   "metadata": {},
   "source": [
    "<img src=\"pandas-dataframe.png\" style=\"margin-left:0px\">"
   ]
  },
  {
   "cell_type": "code",
   "execution_count": 17,
   "metadata": {},
   "outputs": [
    {
     "data": {
      "text/html": [
       "<div>\n",
       "<style scoped>\n",
       "    .dataframe tbody tr th:only-of-type {\n",
       "        vertical-align: middle;\n",
       "    }\n",
       "\n",
       "    .dataframe tbody tr th {\n",
       "        vertical-align: top;\n",
       "    }\n",
       "\n",
       "    .dataframe thead th {\n",
       "        text-align: right;\n",
       "    }\n",
       "</style>\n",
       "<table border=\"1\" class=\"dataframe\">\n",
       "  <thead>\n",
       "    <tr style=\"text-align: right;\">\n",
       "      <th></th>\n",
       "      <th>Apples</th>\n",
       "      <th>Pears</th>\n",
       "      <th>Oranges</th>\n",
       "      <th>Grapefruit</th>\n",
       "    </tr>\n",
       "  </thead>\n",
       "  <tbody>\n",
       "    <tr>\n",
       "      <th>2000-01-01</th>\n",
       "      <td>28</td>\n",
       "      <td>4</td>\n",
       "      <td>24</td>\n",
       "      <td>3</td>\n",
       "    </tr>\n",
       "    <tr>\n",
       "      <th>2000-01-02</th>\n",
       "      <td>5</td>\n",
       "      <td>11</td>\n",
       "      <td>2</td>\n",
       "      <td>17</td>\n",
       "    </tr>\n",
       "    <tr>\n",
       "      <th>2000-01-03</th>\n",
       "      <td>20</td>\n",
       "      <td>23</td>\n",
       "      <td>2</td>\n",
       "      <td>8</td>\n",
       "    </tr>\n",
       "    <tr>\n",
       "      <th>2000-01-04</th>\n",
       "      <td>14</td>\n",
       "      <td>28</td>\n",
       "      <td>7</td>\n",
       "      <td>7</td>\n",
       "    </tr>\n",
       "    <tr>\n",
       "      <th>2000-01-05</th>\n",
       "      <td>27</td>\n",
       "      <td>18</td>\n",
       "      <td>23</td>\n",
       "      <td>22</td>\n",
       "    </tr>\n",
       "  </tbody>\n",
       "</table>\n",
       "</div>"
      ],
      "text/plain": [
       "            Apples  Pears  Oranges  Grapefruit\n",
       "2000-01-01      28      4       24           3\n",
       "2000-01-02       5     11        2          17\n",
       "2000-01-03      20     23        2           8\n",
       "2000-01-04      14     28        7           7\n",
       "2000-01-05      27     18       23          22"
      ]
     },
     "execution_count": 17,
     "metadata": {},
     "output_type": "execute_result"
    }
   ],
   "source": [
    "df.head()"
   ]
  },
  {
   "cell_type": "markdown",
   "metadata": {},
   "source": [
    "axis = 0 for rows"
   ]
  },
  {
   "cell_type": "code",
   "execution_count": 18,
   "metadata": {},
   "outputs": [
    {
     "name": "stdout",
     "output_type": "stream",
     "text": [
      "Average lbs Sold Per Product\n"
     ]
    },
    {
     "data": {
      "text/plain": [
       "Apples        15.200000\n",
       "Pears         16.533333\n",
       "Oranges       10.600000\n",
       "Grapefruit    12.066667\n",
       "dtype: float64"
      ]
     },
     "execution_count": 18,
     "metadata": {},
     "output_type": "execute_result"
    }
   ],
   "source": [
    "print('Average lbs Sold Per Product')\n",
    "df.apply(np.mean, axis=0)"
   ]
  },
  {
   "cell_type": "markdown",
   "metadata": {},
   "source": [
    "axis = 1 for columns"
   ]
  },
  {
   "cell_type": "code",
   "execution_count": 19,
   "metadata": {},
   "outputs": [
    {
     "name": "stdout",
     "output_type": "stream",
     "text": [
      "Average of Total lbs in Fruit Sold Per Day\n"
     ]
    },
    {
     "data": {
      "text/plain": [
       "2000-01-01    14.75\n",
       "2000-01-02     8.75\n",
       "2000-01-03    13.25\n",
       "2000-01-04    14.00\n",
       "2000-01-05    22.50\n",
       "2000-01-06     9.00\n",
       "2000-01-07    15.75\n",
       "2000-01-08    16.75\n",
       "2000-01-09    11.00\n",
       "2000-01-10    13.00\n",
       "2000-01-11     9.25\n",
       "2000-01-12     9.50\n",
       "2000-01-13    12.25\n",
       "2000-01-14    14.00\n",
       "2000-01-15    20.25\n",
       "Freq: D, dtype: float64"
      ]
     },
     "execution_count": 19,
     "metadata": {},
     "output_type": "execute_result"
    }
   ],
   "source": [
    "print('Average of Total lbs in Fruit Sold Per Day')\n",
    "df.apply(np.mean, axis=1)"
   ]
  },
  {
   "cell_type": "markdown",
   "metadata": {},
   "source": [
    "### pandas.read() Methods\n",
    "- pandas has the ability to read data from various data sources using .read() methods, some are listed below:\n",
    "    - `pandas.read_csv('file.csv')` - reads in .csv and .txt files\n",
    "    - `pandas.read_excel('file.xlsx')` - reads in xlsx or xls files\n",
    "    "
   ]
  },
  {
   "cell_type": "code",
   "execution_count": 20,
   "metadata": {},
   "outputs": [],
   "source": [
    "del(df)"
   ]
  },
  {
   "cell_type": "code",
   "execution_count": 21,
   "metadata": {},
   "outputs": [
    {
     "data": {
      "text/html": [
       "<div>\n",
       "<style scoped>\n",
       "    .dataframe tbody tr th:only-of-type {\n",
       "        vertical-align: middle;\n",
       "    }\n",
       "\n",
       "    .dataframe tbody tr th {\n",
       "        vertical-align: top;\n",
       "    }\n",
       "\n",
       "    .dataframe thead th {\n",
       "        text-align: right;\n",
       "    }\n",
       "</style>\n",
       "<table border=\"1\" class=\"dataframe\">\n",
       "  <thead>\n",
       "    <tr style=\"text-align: right;\">\n",
       "      <th></th>\n",
       "      <th>Date Sold</th>\n",
       "      <th>Apples</th>\n",
       "      <th>Pears</th>\n",
       "      <th>Oranges</th>\n",
       "      <th>Grapefruit</th>\n",
       "    </tr>\n",
       "  </thead>\n",
       "  <tbody>\n",
       "    <tr>\n",
       "      <th>0</th>\n",
       "      <td>2000-01-01</td>\n",
       "      <td>25</td>\n",
       "      <td>5</td>\n",
       "      <td>29</td>\n",
       "      <td>4</td>\n",
       "    </tr>\n",
       "    <tr>\n",
       "      <th>1</th>\n",
       "      <td>2000-01-02</td>\n",
       "      <td>23</td>\n",
       "      <td>26</td>\n",
       "      <td>22</td>\n",
       "      <td>15</td>\n",
       "    </tr>\n",
       "    <tr>\n",
       "      <th>2</th>\n",
       "      <td>2000-01-03</td>\n",
       "      <td>29</td>\n",
       "      <td>13</td>\n",
       "      <td>15</td>\n",
       "      <td>21</td>\n",
       "    </tr>\n",
       "    <tr>\n",
       "      <th>3</th>\n",
       "      <td>2000-01-04</td>\n",
       "      <td>21</td>\n",
       "      <td>1</td>\n",
       "      <td>17</td>\n",
       "      <td>21</td>\n",
       "    </tr>\n",
       "    <tr>\n",
       "      <th>4</th>\n",
       "      <td>2000-01-05</td>\n",
       "      <td>17</td>\n",
       "      <td>3</td>\n",
       "      <td>15</td>\n",
       "      <td>1</td>\n",
       "    </tr>\n",
       "  </tbody>\n",
       "</table>\n",
       "</div>"
      ],
      "text/plain": [
       "   Date Sold  Apples  Pears  Oranges  Grapefruit\n",
       "0 2000-01-01      25      5       29           4\n",
       "1 2000-01-02      23     26       22          15\n",
       "2 2000-01-03      29     13       15          21\n",
       "3 2000-01-04      21      1       17          21\n",
       "4 2000-01-05      17      3       15           1"
      ]
     },
     "execution_count": 21,
     "metadata": {},
     "output_type": "execute_result"
    }
   ],
   "source": [
    "df = pd.read_excel('lbs_sold.xlsx')\n",
    "df.head()"
   ]
  },
  {
   "cell_type": "code",
   "execution_count": 22,
   "metadata": {},
   "outputs": [
    {
     "data": {
      "text/html": [
       "<div>\n",
       "<style scoped>\n",
       "    .dataframe tbody tr th:only-of-type {\n",
       "        vertical-align: middle;\n",
       "    }\n",
       "\n",
       "    .dataframe tbody tr th {\n",
       "        vertical-align: top;\n",
       "    }\n",
       "\n",
       "    .dataframe thead th {\n",
       "        text-align: right;\n",
       "    }\n",
       "</style>\n",
       "<table border=\"1\" class=\"dataframe\">\n",
       "  <thead>\n",
       "    <tr style=\"text-align: right;\">\n",
       "      <th></th>\n",
       "      <th>ProductID</th>\n",
       "      <th>Product</th>\n",
       "      <th>Date Sold</th>\n",
       "      <th>Total lbs Sold</th>\n",
       "      <th>Price Per lb</th>\n",
       "      <th>Total</th>\n",
       "    </tr>\n",
       "  </thead>\n",
       "  <tbody>\n",
       "    <tr>\n",
       "      <th>0</th>\n",
       "      <td>10012</td>\n",
       "      <td>Apples</td>\n",
       "      <td>1/1/2000</td>\n",
       "      <td>25</td>\n",
       "      <td>1.18</td>\n",
       "      <td>29.50</td>\n",
       "    </tr>\n",
       "    <tr>\n",
       "      <th>1</th>\n",
       "      <td>10012</td>\n",
       "      <td>Apples</td>\n",
       "      <td>1/2/2000</td>\n",
       "      <td>23</td>\n",
       "      <td>1.18</td>\n",
       "      <td>27.14</td>\n",
       "    </tr>\n",
       "    <tr>\n",
       "      <th>2</th>\n",
       "      <td>10012</td>\n",
       "      <td>Apples</td>\n",
       "      <td>1/3/2000</td>\n",
       "      <td>29</td>\n",
       "      <td>1.18</td>\n",
       "      <td>34.22</td>\n",
       "    </tr>\n",
       "    <tr>\n",
       "      <th>3</th>\n",
       "      <td>10012</td>\n",
       "      <td>Apples</td>\n",
       "      <td>1/4/2000</td>\n",
       "      <td>21</td>\n",
       "      <td>1.18</td>\n",
       "      <td>24.78</td>\n",
       "    </tr>\n",
       "    <tr>\n",
       "      <th>4</th>\n",
       "      <td>10012</td>\n",
       "      <td>Apples</td>\n",
       "      <td>1/5/2000</td>\n",
       "      <td>17</td>\n",
       "      <td>1.18</td>\n",
       "      <td>20.06</td>\n",
       "    </tr>\n",
       "  </tbody>\n",
       "</table>\n",
       "</div>"
      ],
      "text/plain": [
       "   ProductID Product Date Sold  Total lbs Sold  Price Per lb  Total\n",
       "0      10012  Apples  1/1/2000              25          1.18  29.50\n",
       "1      10012  Apples  1/2/2000              23          1.18  27.14\n",
       "2      10012  Apples  1/3/2000              29          1.18  34.22\n",
       "3      10012  Apples  1/4/2000              21          1.18  24.78\n",
       "4      10012  Apples  1/5/2000              17          1.18  20.06"
      ]
     },
     "execution_count": 22,
     "metadata": {},
     "output_type": "execute_result"
    }
   ],
   "source": [
    "df = pd.read_csv('store1.csv')\n",
    "df.head()"
   ]
  },
  {
   "cell_type": "markdown",
   "metadata": {},
   "source": [
    "Fully qualified path name"
   ]
  },
  {
   "cell_type": "code",
   "execution_count": 24,
   "metadata": {},
   "outputs": [
    {
     "data": {
      "text/html": [
       "<div>\n",
       "<style scoped>\n",
       "    .dataframe tbody tr th:only-of-type {\n",
       "        vertical-align: middle;\n",
       "    }\n",
       "\n",
       "    .dataframe tbody tr th {\n",
       "        vertical-align: top;\n",
       "    }\n",
       "\n",
       "    .dataframe thead th {\n",
       "        text-align: right;\n",
       "    }\n",
       "</style>\n",
       "<table border=\"1\" class=\"dataframe\">\n",
       "  <thead>\n",
       "    <tr style=\"text-align: right;\">\n",
       "      <th></th>\n",
       "      <th>ProductID</th>\n",
       "      <th>Product</th>\n",
       "      <th>Price Per lb</th>\n",
       "    </tr>\n",
       "  </thead>\n",
       "  <tbody>\n",
       "    <tr>\n",
       "      <th>0</th>\n",
       "      <td>10012</td>\n",
       "      <td>Apples</td>\n",
       "      <td>1.18</td>\n",
       "    </tr>\n",
       "    <tr>\n",
       "      <th>1</th>\n",
       "      <td>10013</td>\n",
       "      <td>Pears</td>\n",
       "      <td>1.52</td>\n",
       "    </tr>\n",
       "    <tr>\n",
       "      <th>2</th>\n",
       "      <td>10014</td>\n",
       "      <td>Oranges</td>\n",
       "      <td>1.39</td>\n",
       "    </tr>\n",
       "    <tr>\n",
       "      <th>3</th>\n",
       "      <td>10015</td>\n",
       "      <td>Grapefruit</td>\n",
       "      <td>1.35</td>\n",
       "    </tr>\n",
       "  </tbody>\n",
       "</table>\n",
       "</div>"
      ],
      "text/plain": [
       "  ProductID     Product  Price Per lb\n",
       "0     10012      Apples          1.18\n",
       "1     10013       Pears          1.52\n",
       "2     10014     Oranges          1.39\n",
       "3     10015  Grapefruit          1.35"
      ]
     },
     "execution_count": 24,
     "metadata": {},
     "output_type": "execute_result"
    }
   ],
   "source": [
    "df2 = pd.read_csv(r'prod\\prod_info.csv',dtype={'ProductID':'object'})\n",
    "df2"
   ]
  },
  {
   "cell_type": "markdown",
   "metadata": {},
   "source": [
    "### Selecting Elements of a DataFrame\n",
    "- the `.columns` attribute of a DataFrame will display all the column names of a DataFrame\n",
    "- the `.index` attribute of a DataFrame will display the index of the DataFrame\n",
    "    - an unlabeled index will show the start, stop, and step indices of a DataFrame\n",
    "    - a labeled index will display the index labels\n",
    "- the `.values` attribute will display all of the values of the DataFrame as an array"
   ]
  },
  {
   "cell_type": "code",
   "execution_count": 25,
   "metadata": {},
   "outputs": [
    {
     "data": {
      "text/plain": [
       "Index(['ProductID', 'Product', 'Date Sold', 'Total lbs Sold', 'Price Per lb',\n",
       "       'Total'],\n",
       "      dtype='object')"
      ]
     },
     "execution_count": 25,
     "metadata": {},
     "output_type": "execute_result"
    }
   ],
   "source": [
    "df.columns"
   ]
  },
  {
   "cell_type": "code",
   "execution_count": 26,
   "metadata": {},
   "outputs": [
    {
     "data": {
      "text/plain": [
       "RangeIndex(start=0, stop=60, step=1)"
      ]
     },
     "execution_count": 26,
     "metadata": {},
     "output_type": "execute_result"
    }
   ],
   "source": [
    "df.index"
   ]
  },
  {
   "cell_type": "code",
   "execution_count": 28,
   "metadata": {},
   "outputs": [
    {
     "data": {
      "text/plain": [
       "array([[10012, 'Apples', '1/1/2000', 25, 1.18, 29.5],\n",
       "       [10012, 'Apples', '1/2/2000', 23, 1.18, 27.14],\n",
       "       [10012, 'Apples', '1/3/2000', 29, 1.18, 34.22],\n",
       "       [10012, 'Apples', '1/4/2000', 21, 1.18, 24.78],\n",
       "       [10012, 'Apples', '1/5/2000', 17, 1.18, 20.06]], dtype=object)"
      ]
     },
     "execution_count": 28,
     "metadata": {},
     "output_type": "execute_result"
    }
   ],
   "source": [
    "df.values[:5]"
   ]
  },
  {
   "cell_type": "markdown",
   "metadata": {},
   "source": [
    "### DataFrame.info() method\n",
    "- `.info()` method provides information on the DataFrame\n",
    "- row count, column names, null values, and data types"
   ]
  },
  {
   "cell_type": "code",
   "execution_count": 29,
   "metadata": {},
   "outputs": [
    {
     "name": "stdout",
     "output_type": "stream",
     "text": [
      "<class 'pandas.core.frame.DataFrame'>\n",
      "RangeIndex: 60 entries, 0 to 59\n",
      "Data columns (total 6 columns):\n",
      "ProductID         60 non-null int64\n",
      "Product           60 non-null object\n",
      "Date Sold         60 non-null object\n",
      "Total lbs Sold    60 non-null int64\n",
      "Price Per lb      60 non-null float64\n",
      "Total             60 non-null float64\n",
      "dtypes: float64(2), int64(2), object(2)\n",
      "memory usage: 2.9+ KB\n"
     ]
    }
   ],
   "source": [
    "df.info()"
   ]
  },
  {
   "cell_type": "markdown",
   "metadata": {},
   "source": [
    "### Filtering DataFrames\n",
    "- You can conditionally select elements from a DataFrame using Comparison Operators\n",
    "- Syntax:\n",
    "    - `DataFrame['ColumnName'] ComparisonOperator value`\n",
    "    - example: `df['ProductID']==10012`\n",
    "\n",
    "### Python Comparison Operators\n",
    "<img src=\"co.png\" style=\"margin-left:0px\">"
   ]
  },
  {
   "cell_type": "code",
   "execution_count": 30,
   "metadata": {},
   "outputs": [
    {
     "data": {
      "text/plain": [
       "0    True\n",
       "1    True\n",
       "2    True\n",
       "3    True\n",
       "4    True\n",
       "Name: ProductID, dtype: bool"
      ]
     },
     "execution_count": 30,
     "metadata": {},
     "output_type": "execute_result"
    }
   ],
   "source": [
    "(df['ProductID'] == 10012).head(5)"
   ]
  },
  {
   "cell_type": "code",
   "execution_count": 31,
   "metadata": {},
   "outputs": [
    {
     "data": {
      "text/html": [
       "<div>\n",
       "<style scoped>\n",
       "    .dataframe tbody tr th:only-of-type {\n",
       "        vertical-align: middle;\n",
       "    }\n",
       "\n",
       "    .dataframe tbody tr th {\n",
       "        vertical-align: top;\n",
       "    }\n",
       "\n",
       "    .dataframe thead th {\n",
       "        text-align: right;\n",
       "    }\n",
       "</style>\n",
       "<table border=\"1\" class=\"dataframe\">\n",
       "  <thead>\n",
       "    <tr style=\"text-align: right;\">\n",
       "      <th></th>\n",
       "      <th>ProductID</th>\n",
       "      <th>Product</th>\n",
       "      <th>Date Sold</th>\n",
       "      <th>Total lbs Sold</th>\n",
       "      <th>Price Per lb</th>\n",
       "      <th>Total</th>\n",
       "    </tr>\n",
       "  </thead>\n",
       "  <tbody>\n",
       "    <tr>\n",
       "      <th>0</th>\n",
       "      <td>10012</td>\n",
       "      <td>Apples</td>\n",
       "      <td>1/1/2000</td>\n",
       "      <td>25</td>\n",
       "      <td>1.18</td>\n",
       "      <td>29.50</td>\n",
       "    </tr>\n",
       "    <tr>\n",
       "      <th>1</th>\n",
       "      <td>10012</td>\n",
       "      <td>Apples</td>\n",
       "      <td>1/2/2000</td>\n",
       "      <td>23</td>\n",
       "      <td>1.18</td>\n",
       "      <td>27.14</td>\n",
       "    </tr>\n",
       "    <tr>\n",
       "      <th>2</th>\n",
       "      <td>10012</td>\n",
       "      <td>Apples</td>\n",
       "      <td>1/3/2000</td>\n",
       "      <td>29</td>\n",
       "      <td>1.18</td>\n",
       "      <td>34.22</td>\n",
       "    </tr>\n",
       "    <tr>\n",
       "      <th>3</th>\n",
       "      <td>10012</td>\n",
       "      <td>Apples</td>\n",
       "      <td>1/4/2000</td>\n",
       "      <td>21</td>\n",
       "      <td>1.18</td>\n",
       "      <td>24.78</td>\n",
       "    </tr>\n",
       "    <tr>\n",
       "      <th>4</th>\n",
       "      <td>10012</td>\n",
       "      <td>Apples</td>\n",
       "      <td>1/5/2000</td>\n",
       "      <td>17</td>\n",
       "      <td>1.18</td>\n",
       "      <td>20.06</td>\n",
       "    </tr>\n",
       "  </tbody>\n",
       "</table>\n",
       "</div>"
      ],
      "text/plain": [
       "   ProductID Product Date Sold  Total lbs Sold  Price Per lb  Total\n",
       "0      10012  Apples  1/1/2000              25          1.18  29.50\n",
       "1      10012  Apples  1/2/2000              23          1.18  27.14\n",
       "2      10012  Apples  1/3/2000              29          1.18  34.22\n",
       "3      10012  Apples  1/4/2000              21          1.18  24.78\n",
       "4      10012  Apples  1/5/2000              17          1.18  20.06"
      ]
     },
     "execution_count": 31,
     "metadata": {},
     "output_type": "execute_result"
    }
   ],
   "source": [
    "df[df['ProductID'] == 10012].head(5)"
   ]
  },
  {
   "cell_type": "markdown",
   "metadata": {},
   "source": [
    "### Bistwise Operators\n",
    "\n",
    "<img src=\"bo.png\" style=\"margin-left:0px\">"
   ]
  },
  {
   "cell_type": "code",
   "execution_count": 32,
   "metadata": {},
   "outputs": [
    {
     "data": {
      "text/html": [
       "<div>\n",
       "<style scoped>\n",
       "    .dataframe tbody tr th:only-of-type {\n",
       "        vertical-align: middle;\n",
       "    }\n",
       "\n",
       "    .dataframe tbody tr th {\n",
       "        vertical-align: top;\n",
       "    }\n",
       "\n",
       "    .dataframe thead th {\n",
       "        text-align: right;\n",
       "    }\n",
       "</style>\n",
       "<table border=\"1\" class=\"dataframe\">\n",
       "  <thead>\n",
       "    <tr style=\"text-align: right;\">\n",
       "      <th></th>\n",
       "      <th>ProductID</th>\n",
       "      <th>Product</th>\n",
       "      <th>Date Sold</th>\n",
       "      <th>Total lbs Sold</th>\n",
       "      <th>Price Per lb</th>\n",
       "      <th>Total</th>\n",
       "    </tr>\n",
       "  </thead>\n",
       "  <tbody>\n",
       "    <tr>\n",
       "      <th>0</th>\n",
       "      <td>10012</td>\n",
       "      <td>Apples</td>\n",
       "      <td>1/1/2000</td>\n",
       "      <td>25</td>\n",
       "      <td>1.18</td>\n",
       "      <td>29.50</td>\n",
       "    </tr>\n",
       "    <tr>\n",
       "      <th>1</th>\n",
       "      <td>10012</td>\n",
       "      <td>Apples</td>\n",
       "      <td>1/2/2000</td>\n",
       "      <td>23</td>\n",
       "      <td>1.18</td>\n",
       "      <td>27.14</td>\n",
       "    </tr>\n",
       "    <tr>\n",
       "      <th>2</th>\n",
       "      <td>10012</td>\n",
       "      <td>Apples</td>\n",
       "      <td>1/3/2000</td>\n",
       "      <td>29</td>\n",
       "      <td>1.18</td>\n",
       "      <td>34.22</td>\n",
       "    </tr>\n",
       "    <tr>\n",
       "      <th>3</th>\n",
       "      <td>10012</td>\n",
       "      <td>Apples</td>\n",
       "      <td>1/4/2000</td>\n",
       "      <td>21</td>\n",
       "      <td>1.18</td>\n",
       "      <td>24.78</td>\n",
       "    </tr>\n",
       "    <tr>\n",
       "      <th>4</th>\n",
       "      <td>10012</td>\n",
       "      <td>Apples</td>\n",
       "      <td>1/5/2000</td>\n",
       "      <td>17</td>\n",
       "      <td>1.18</td>\n",
       "      <td>20.06</td>\n",
       "    </tr>\n",
       "    <tr>\n",
       "      <th>7</th>\n",
       "      <td>10012</td>\n",
       "      <td>Apples</td>\n",
       "      <td>1/8/2000</td>\n",
       "      <td>25</td>\n",
       "      <td>1.18</td>\n",
       "      <td>29.50</td>\n",
       "    </tr>\n",
       "    <tr>\n",
       "      <th>8</th>\n",
       "      <td>10012</td>\n",
       "      <td>Apples</td>\n",
       "      <td>1/9/2000</td>\n",
       "      <td>28</td>\n",
       "      <td>1.18</td>\n",
       "      <td>33.04</td>\n",
       "    </tr>\n",
       "    <tr>\n",
       "      <th>10</th>\n",
       "      <td>10012</td>\n",
       "      <td>Apples</td>\n",
       "      <td>1/11/2000</td>\n",
       "      <td>22</td>\n",
       "      <td>1.18</td>\n",
       "      <td>25.96</td>\n",
       "    </tr>\n",
       "    <tr>\n",
       "      <th>13</th>\n",
       "      <td>10012</td>\n",
       "      <td>Apples</td>\n",
       "      <td>1/14/2000</td>\n",
       "      <td>20</td>\n",
       "      <td>1.18</td>\n",
       "      <td>23.60</td>\n",
       "    </tr>\n",
       "    <tr>\n",
       "      <th>14</th>\n",
       "      <td>10012</td>\n",
       "      <td>Apples</td>\n",
       "      <td>1/15/2000</td>\n",
       "      <td>18</td>\n",
       "      <td>1.18</td>\n",
       "      <td>21.24</td>\n",
       "    </tr>\n",
       "  </tbody>\n",
       "</table>\n",
       "</div>"
      ],
      "text/plain": [
       "    ProductID Product  Date Sold  Total lbs Sold  Price Per lb  Total\n",
       "0       10012  Apples   1/1/2000              25          1.18  29.50\n",
       "1       10012  Apples   1/2/2000              23          1.18  27.14\n",
       "2       10012  Apples   1/3/2000              29          1.18  34.22\n",
       "3       10012  Apples   1/4/2000              21          1.18  24.78\n",
       "4       10012  Apples   1/5/2000              17          1.18  20.06\n",
       "7       10012  Apples   1/8/2000              25          1.18  29.50\n",
       "8       10012  Apples   1/9/2000              28          1.18  33.04\n",
       "10      10012  Apples  1/11/2000              22          1.18  25.96\n",
       "13      10012  Apples  1/14/2000              20          1.18  23.60\n",
       "14      10012  Apples  1/15/2000              18          1.18  21.24"
      ]
     },
     "execution_count": 32,
     "metadata": {},
     "output_type": "execute_result"
    }
   ],
   "source": [
    "df[(df['ProductID'] == 10012) & (df['Total lbs Sold'] >= 12)]"
   ]
  },
  {
   "cell_type": "code",
   "execution_count": 33,
   "metadata": {},
   "outputs": [
    {
     "ename": "ValueError",
     "evalue": "The truth value of a Series is ambiguous. Use a.empty, a.bool(), a.item(), a.any() or a.all().",
     "output_type": "error",
     "traceback": [
      "\u001b[1;31m---------------------------------------------------------------------------\u001b[0m",
      "\u001b[1;31mValueError\u001b[0m                                Traceback (most recent call last)",
      "\u001b[1;32m<ipython-input-33-a8f376655c85>\u001b[0m in \u001b[0;36m<module>\u001b[1;34m\u001b[0m\n\u001b[1;32m----> 1\u001b[1;33m \u001b[0mdf\u001b[0m\u001b[1;33m[\u001b[0m\u001b[1;33m(\u001b[0m\u001b[0mdf\u001b[0m\u001b[1;33m[\u001b[0m\u001b[1;34m'ProductID'\u001b[0m\u001b[1;33m]\u001b[0m\u001b[1;33m==\u001b[0m\u001b[1;36m10012\u001b[0m\u001b[1;33m)\u001b[0m \u001b[1;32mand\u001b[0m \u001b[1;33m(\u001b[0m\u001b[0mdf\u001b[0m\u001b[1;33m[\u001b[0m\u001b[1;34m'Total lbs Sold'\u001b[0m\u001b[1;33m]\u001b[0m\u001b[1;33m>=\u001b[0m\u001b[1;36m12\u001b[0m\u001b[1;33m)\u001b[0m\u001b[1;33m]\u001b[0m\u001b[1;33m\u001b[0m\u001b[1;33m\u001b[0m\u001b[0m\n\u001b[0m",
      "\u001b[1;32mC:\\Anaconda\\envs\\py37\\lib\\site-packages\\pandas\\core\\generic.py\u001b[0m in \u001b[0;36m__nonzero__\u001b[1;34m(self)\u001b[0m\n\u001b[0;32m   1553\u001b[0m             \u001b[1;34m\"The truth value of a {0} is ambiguous. \"\u001b[0m\u001b[1;33m\u001b[0m\u001b[1;33m\u001b[0m\u001b[0m\n\u001b[0;32m   1554\u001b[0m             \"Use a.empty, a.bool(), a.item(), a.any() or a.all().\".format(\n\u001b[1;32m-> 1555\u001b[1;33m                 \u001b[0mself\u001b[0m\u001b[1;33m.\u001b[0m\u001b[0m__class__\u001b[0m\u001b[1;33m.\u001b[0m\u001b[0m__name__\u001b[0m\u001b[1;33m\u001b[0m\u001b[1;33m\u001b[0m\u001b[0m\n\u001b[0m\u001b[0;32m   1556\u001b[0m             )\n\u001b[0;32m   1557\u001b[0m         )\n",
      "\u001b[1;31mValueError\u001b[0m: The truth value of a Series is ambiguous. Use a.empty, a.bool(), a.item(), a.any() or a.all()."
     ]
    }
   ],
   "source": [
    "# Raise ValueError\n",
    "df[(df['ProductID']==10012) and (df['Total lbs Sold']>=12)]"
   ]
  },
  {
   "cell_type": "markdown",
   "metadata": {},
   "source": [
    "### .drop() Method\n",
    "- Remove rows or columns by specifying label names and corresponding axis\n",
    "\n",
    "<img src=\"drop2.png\" style=\"margin-left:0px\">\n",
    "<img src=\"drop.png\" style=\"margin-left:0px\">"
   ]
  },
  {
   "cell_type": "code",
   "execution_count": 34,
   "metadata": {
    "scrolled": true
   },
   "outputs": [
    {
     "data": {
      "text/html": [
       "<div>\n",
       "<style scoped>\n",
       "    .dataframe tbody tr th:only-of-type {\n",
       "        vertical-align: middle;\n",
       "    }\n",
       "\n",
       "    .dataframe tbody tr th {\n",
       "        vertical-align: top;\n",
       "    }\n",
       "\n",
       "    .dataframe thead th {\n",
       "        text-align: right;\n",
       "    }\n",
       "</style>\n",
       "<table border=\"1\" class=\"dataframe\">\n",
       "  <thead>\n",
       "    <tr style=\"text-align: right;\">\n",
       "      <th></th>\n",
       "      <th>ProductID</th>\n",
       "      <th>Product</th>\n",
       "      <th>Date Sold</th>\n",
       "      <th>Total lbs Sold</th>\n",
       "      <th>Total</th>\n",
       "    </tr>\n",
       "  </thead>\n",
       "  <tbody>\n",
       "    <tr>\n",
       "      <th>0</th>\n",
       "      <td>10012</td>\n",
       "      <td>Apples</td>\n",
       "      <td>1/1/2000</td>\n",
       "      <td>25</td>\n",
       "      <td>29.50</td>\n",
       "    </tr>\n",
       "    <tr>\n",
       "      <th>1</th>\n",
       "      <td>10012</td>\n",
       "      <td>Apples</td>\n",
       "      <td>1/2/2000</td>\n",
       "      <td>23</td>\n",
       "      <td>27.14</td>\n",
       "    </tr>\n",
       "    <tr>\n",
       "      <th>2</th>\n",
       "      <td>10012</td>\n",
       "      <td>Apples</td>\n",
       "      <td>1/3/2000</td>\n",
       "      <td>29</td>\n",
       "      <td>34.22</td>\n",
       "    </tr>\n",
       "    <tr>\n",
       "      <th>3</th>\n",
       "      <td>10012</td>\n",
       "      <td>Apples</td>\n",
       "      <td>1/4/2000</td>\n",
       "      <td>21</td>\n",
       "      <td>24.78</td>\n",
       "    </tr>\n",
       "    <tr>\n",
       "      <th>4</th>\n",
       "      <td>10012</td>\n",
       "      <td>Apples</td>\n",
       "      <td>1/5/2000</td>\n",
       "      <td>17</td>\n",
       "      <td>20.06</td>\n",
       "    </tr>\n",
       "  </tbody>\n",
       "</table>\n",
       "</div>"
      ],
      "text/plain": [
       "   ProductID Product Date Sold  Total lbs Sold  Total\n",
       "0      10012  Apples  1/1/2000              25  29.50\n",
       "1      10012  Apples  1/2/2000              23  27.14\n",
       "2      10012  Apples  1/3/2000              29  34.22\n",
       "3      10012  Apples  1/4/2000              21  24.78\n",
       "4      10012  Apples  1/5/2000              17  20.06"
      ]
     },
     "execution_count": 34,
     "metadata": {},
     "output_type": "execute_result"
    }
   ],
   "source": [
    "df.drop(['Price Per lb'], axis=1, inplace=True)\n",
    "df.head()"
   ]
  },
  {
   "cell_type": "markdown",
   "metadata": {},
   "source": [
    "### Slicing / Subsetting DataFrames\n",
    "- DataFrames can be subset based on the row and column indices\n",
    "- `df_name[start:stop:step]` step is optional"
   ]
  },
  {
   "cell_type": "markdown",
   "metadata": {},
   "source": [
    "Start on row index 2 and stop on row index 6 excluding row index 6 and below"
   ]
  },
  {
   "cell_type": "code",
   "execution_count": 35,
   "metadata": {},
   "outputs": [
    {
     "data": {
      "text/html": [
       "<div>\n",
       "<style scoped>\n",
       "    .dataframe tbody tr th:only-of-type {\n",
       "        vertical-align: middle;\n",
       "    }\n",
       "\n",
       "    .dataframe tbody tr th {\n",
       "        vertical-align: top;\n",
       "    }\n",
       "\n",
       "    .dataframe thead th {\n",
       "        text-align: right;\n",
       "    }\n",
       "</style>\n",
       "<table border=\"1\" class=\"dataframe\">\n",
       "  <thead>\n",
       "    <tr style=\"text-align: right;\">\n",
       "      <th></th>\n",
       "      <th>ProductID</th>\n",
       "      <th>Product</th>\n",
       "      <th>Date Sold</th>\n",
       "      <th>Total lbs Sold</th>\n",
       "      <th>Total</th>\n",
       "    </tr>\n",
       "  </thead>\n",
       "  <tbody>\n",
       "    <tr>\n",
       "      <th>2</th>\n",
       "      <td>10012</td>\n",
       "      <td>Apples</td>\n",
       "      <td>1/3/2000</td>\n",
       "      <td>29</td>\n",
       "      <td>34.22</td>\n",
       "    </tr>\n",
       "    <tr>\n",
       "      <th>3</th>\n",
       "      <td>10012</td>\n",
       "      <td>Apples</td>\n",
       "      <td>1/4/2000</td>\n",
       "      <td>21</td>\n",
       "      <td>24.78</td>\n",
       "    </tr>\n",
       "    <tr>\n",
       "      <th>4</th>\n",
       "      <td>10012</td>\n",
       "      <td>Apples</td>\n",
       "      <td>1/5/2000</td>\n",
       "      <td>17</td>\n",
       "      <td>20.06</td>\n",
       "    </tr>\n",
       "    <tr>\n",
       "      <th>5</th>\n",
       "      <td>10012</td>\n",
       "      <td>Apples</td>\n",
       "      <td>1/6/2000</td>\n",
       "      <td>6</td>\n",
       "      <td>7.08</td>\n",
       "    </tr>\n",
       "  </tbody>\n",
       "</table>\n",
       "</div>"
      ],
      "text/plain": [
       "   ProductID Product Date Sold  Total lbs Sold  Total\n",
       "2      10012  Apples  1/3/2000              29  34.22\n",
       "3      10012  Apples  1/4/2000              21  24.78\n",
       "4      10012  Apples  1/5/2000              17  20.06\n",
       "5      10012  Apples  1/6/2000               6   7.08"
      ]
     },
     "execution_count": 35,
     "metadata": {},
     "output_type": "execute_result"
    }
   ],
   "source": [
    "df[2:6]"
   ]
  },
  {
   "cell_type": "code",
   "execution_count": 36,
   "metadata": {
    "scrolled": true
   },
   "outputs": [
    {
     "data": {
      "text/html": [
       "<div>\n",
       "<style scoped>\n",
       "    .dataframe tbody tr th:only-of-type {\n",
       "        vertical-align: middle;\n",
       "    }\n",
       "\n",
       "    .dataframe tbody tr th {\n",
       "        vertical-align: top;\n",
       "    }\n",
       "\n",
       "    .dataframe thead th {\n",
       "        text-align: right;\n",
       "    }\n",
       "</style>\n",
       "<table border=\"1\" class=\"dataframe\">\n",
       "  <thead>\n",
       "    <tr style=\"text-align: right;\">\n",
       "      <th></th>\n",
       "      <th>ProductID</th>\n",
       "      <th>Product</th>\n",
       "      <th>Date Sold</th>\n",
       "      <th>Total lbs Sold</th>\n",
       "      <th>Total</th>\n",
       "    </tr>\n",
       "  </thead>\n",
       "  <tbody>\n",
       "    <tr>\n",
       "      <th>2</th>\n",
       "      <td>10012</td>\n",
       "      <td>Apples</td>\n",
       "      <td>1/3/2000</td>\n",
       "      <td>29</td>\n",
       "      <td>34.22</td>\n",
       "    </tr>\n",
       "    <tr>\n",
       "      <th>4</th>\n",
       "      <td>10012</td>\n",
       "      <td>Apples</td>\n",
       "      <td>1/5/2000</td>\n",
       "      <td>17</td>\n",
       "      <td>20.06</td>\n",
       "    </tr>\n",
       "    <tr>\n",
       "      <th>6</th>\n",
       "      <td>10012</td>\n",
       "      <td>Apples</td>\n",
       "      <td>1/7/2000</td>\n",
       "      <td>10</td>\n",
       "      <td>11.80</td>\n",
       "    </tr>\n",
       "    <tr>\n",
       "      <th>8</th>\n",
       "      <td>10012</td>\n",
       "      <td>Apples</td>\n",
       "      <td>1/9/2000</td>\n",
       "      <td>28</td>\n",
       "      <td>33.04</td>\n",
       "    </tr>\n",
       "    <tr>\n",
       "      <th>10</th>\n",
       "      <td>10012</td>\n",
       "      <td>Apples</td>\n",
       "      <td>1/11/2000</td>\n",
       "      <td>22</td>\n",
       "      <td>25.96</td>\n",
       "    </tr>\n",
       "    <tr>\n",
       "      <th>12</th>\n",
       "      <td>10012</td>\n",
       "      <td>Apples</td>\n",
       "      <td>1/13/2000</td>\n",
       "      <td>11</td>\n",
       "      <td>12.98</td>\n",
       "    </tr>\n",
       "    <tr>\n",
       "      <th>14</th>\n",
       "      <td>10012</td>\n",
       "      <td>Apples</td>\n",
       "      <td>1/15/2000</td>\n",
       "      <td>18</td>\n",
       "      <td>21.24</td>\n",
       "    </tr>\n",
       "    <tr>\n",
       "      <th>16</th>\n",
       "      <td>10013</td>\n",
       "      <td>Pears</td>\n",
       "      <td>1/2/2000</td>\n",
       "      <td>26</td>\n",
       "      <td>39.52</td>\n",
       "    </tr>\n",
       "    <tr>\n",
       "      <th>18</th>\n",
       "      <td>10013</td>\n",
       "      <td>Pears</td>\n",
       "      <td>1/4/2000</td>\n",
       "      <td>1</td>\n",
       "      <td>1.52</td>\n",
       "    </tr>\n",
       "  </tbody>\n",
       "</table>\n",
       "</div>"
      ],
      "text/plain": [
       "    ProductID Product  Date Sold  Total lbs Sold  Total\n",
       "2       10012  Apples   1/3/2000              29  34.22\n",
       "4       10012  Apples   1/5/2000              17  20.06\n",
       "6       10012  Apples   1/7/2000              10  11.80\n",
       "8       10012  Apples   1/9/2000              28  33.04\n",
       "10      10012  Apples  1/11/2000              22  25.96\n",
       "12      10012  Apples  1/13/2000              11  12.98\n",
       "14      10012  Apples  1/15/2000              18  21.24\n",
       "16      10013   Pears   1/2/2000              26  39.52\n",
       "18      10013   Pears   1/4/2000               1   1.52"
      ]
     },
     "execution_count": 36,
     "metadata": {},
     "output_type": "execute_result"
    }
   ],
   "source": [
    "df[2:20:2]"
   ]
  },
  {
   "cell_type": "code",
   "execution_count": 37,
   "metadata": {},
   "outputs": [
    {
     "data": {
      "text/html": [
       "<div>\n",
       "<style scoped>\n",
       "    .dataframe tbody tr th:only-of-type {\n",
       "        vertical-align: middle;\n",
       "    }\n",
       "\n",
       "    .dataframe tbody tr th {\n",
       "        vertical-align: top;\n",
       "    }\n",
       "\n",
       "    .dataframe thead th {\n",
       "        text-align: right;\n",
       "    }\n",
       "</style>\n",
       "<table border=\"1\" class=\"dataframe\">\n",
       "  <thead>\n",
       "    <tr style=\"text-align: right;\">\n",
       "      <th></th>\n",
       "      <th>ProductID</th>\n",
       "      <th>Product</th>\n",
       "      <th>Date Sold</th>\n",
       "      <th>Total lbs Sold</th>\n",
       "      <th>Total</th>\n",
       "    </tr>\n",
       "  </thead>\n",
       "  <tbody>\n",
       "    <tr>\n",
       "      <th>2</th>\n",
       "      <td>10012</td>\n",
       "      <td>Apples</td>\n",
       "      <td>1/3/2000</td>\n",
       "      <td>29</td>\n",
       "      <td>34.22</td>\n",
       "    </tr>\n",
       "    <tr>\n",
       "      <th>3</th>\n",
       "      <td>10012</td>\n",
       "      <td>Apples</td>\n",
       "      <td>1/4/2000</td>\n",
       "      <td>21</td>\n",
       "      <td>24.78</td>\n",
       "    </tr>\n",
       "    <tr>\n",
       "      <th>4</th>\n",
       "      <td>10012</td>\n",
       "      <td>Apples</td>\n",
       "      <td>1/5/2000</td>\n",
       "      <td>17</td>\n",
       "      <td>20.06</td>\n",
       "    </tr>\n",
       "    <tr>\n",
       "      <th>5</th>\n",
       "      <td>10012</td>\n",
       "      <td>Apples</td>\n",
       "      <td>1/6/2000</td>\n",
       "      <td>6</td>\n",
       "      <td>7.08</td>\n",
       "    </tr>\n",
       "  </tbody>\n",
       "</table>\n",
       "</div>"
      ],
      "text/plain": [
       "   ProductID Product Date Sold  Total lbs Sold  Total\n",
       "2      10012  Apples  1/3/2000              29  34.22\n",
       "3      10012  Apples  1/4/2000              21  24.78\n",
       "4      10012  Apples  1/5/2000              17  20.06\n",
       "5      10012  Apples  1/6/2000               6   7.08"
      ]
     },
     "execution_count": 37,
     "metadata": {},
     "output_type": "execute_result"
    }
   ],
   "source": [
    "df[2:6]"
   ]
  },
  {
   "cell_type": "markdown",
   "metadata": {},
   "source": [
    "### Subsetting with .loc and .iloc\n",
    "- you can also be explicit about what index you are filtering on\n",
    "- `.iloc[]` will return the index in its original 0-based indexing order regardless of what you set the index as\n",
    "- `.loc[]` will return the specified index by its name/label"
   ]
  },
  {
   "cell_type": "code",
   "execution_count": 38,
   "metadata": {},
   "outputs": [],
   "source": [
    "# set_index() is used to set a column as the index\n",
    "# returns a new DataFrame if inplace=False; modifies the existing DataFrame if inplace=True\n",
    "\n",
    "df.set_index('Date Sold', inplace=True)"
   ]
  },
  {
   "cell_type": "code",
   "execution_count": 39,
   "metadata": {},
   "outputs": [
    {
     "data": {
      "text/html": [
       "<div>\n",
       "<style scoped>\n",
       "    .dataframe tbody tr th:only-of-type {\n",
       "        vertical-align: middle;\n",
       "    }\n",
       "\n",
       "    .dataframe tbody tr th {\n",
       "        vertical-align: top;\n",
       "    }\n",
       "\n",
       "    .dataframe thead th {\n",
       "        text-align: right;\n",
       "    }\n",
       "</style>\n",
       "<table border=\"1\" class=\"dataframe\">\n",
       "  <thead>\n",
       "    <tr style=\"text-align: right;\">\n",
       "      <th></th>\n",
       "      <th>ProductID</th>\n",
       "      <th>Product</th>\n",
       "      <th>Total lbs Sold</th>\n",
       "      <th>Total</th>\n",
       "    </tr>\n",
       "    <tr>\n",
       "      <th>Date Sold</th>\n",
       "      <th></th>\n",
       "      <th></th>\n",
       "      <th></th>\n",
       "      <th></th>\n",
       "    </tr>\n",
       "  </thead>\n",
       "  <tbody>\n",
       "    <tr>\n",
       "      <th>1/1/2000</th>\n",
       "      <td>10012</td>\n",
       "      <td>Apples</td>\n",
       "      <td>25</td>\n",
       "      <td>29.50</td>\n",
       "    </tr>\n",
       "    <tr>\n",
       "      <th>1/2/2000</th>\n",
       "      <td>10012</td>\n",
       "      <td>Apples</td>\n",
       "      <td>23</td>\n",
       "      <td>27.14</td>\n",
       "    </tr>\n",
       "    <tr>\n",
       "      <th>1/3/2000</th>\n",
       "      <td>10012</td>\n",
       "      <td>Apples</td>\n",
       "      <td>29</td>\n",
       "      <td>34.22</td>\n",
       "    </tr>\n",
       "    <tr>\n",
       "      <th>1/4/2000</th>\n",
       "      <td>10012</td>\n",
       "      <td>Apples</td>\n",
       "      <td>21</td>\n",
       "      <td>24.78</td>\n",
       "    </tr>\n",
       "    <tr>\n",
       "      <th>1/5/2000</th>\n",
       "      <td>10012</td>\n",
       "      <td>Apples</td>\n",
       "      <td>17</td>\n",
       "      <td>20.06</td>\n",
       "    </tr>\n",
       "  </tbody>\n",
       "</table>\n",
       "</div>"
      ],
      "text/plain": [
       "           ProductID Product  Total lbs Sold  Total\n",
       "Date Sold                                          \n",
       "1/1/2000       10012  Apples              25  29.50\n",
       "1/2/2000       10012  Apples              23  27.14\n",
       "1/3/2000       10012  Apples              29  34.22\n",
       "1/4/2000       10012  Apples              21  24.78\n",
       "1/5/2000       10012  Apples              17  20.06"
      ]
     },
     "execution_count": 39,
     "metadata": {},
     "output_type": "execute_result"
    }
   ],
   "source": [
    "df.iloc[0:5]"
   ]
  },
  {
   "cell_type": "code",
   "execution_count": 40,
   "metadata": {},
   "outputs": [
    {
     "data": {
      "text/html": [
       "<div>\n",
       "<style scoped>\n",
       "    .dataframe tbody tr th:only-of-type {\n",
       "        vertical-align: middle;\n",
       "    }\n",
       "\n",
       "    .dataframe tbody tr th {\n",
       "        vertical-align: top;\n",
       "    }\n",
       "\n",
       "    .dataframe thead th {\n",
       "        text-align: right;\n",
       "    }\n",
       "</style>\n",
       "<table border=\"1\" class=\"dataframe\">\n",
       "  <thead>\n",
       "    <tr style=\"text-align: right;\">\n",
       "      <th></th>\n",
       "      <th>ProductID</th>\n",
       "      <th>Product</th>\n",
       "      <th>Total lbs Sold</th>\n",
       "      <th>Total</th>\n",
       "    </tr>\n",
       "    <tr>\n",
       "      <th>Date Sold</th>\n",
       "      <th></th>\n",
       "      <th></th>\n",
       "      <th></th>\n",
       "      <th></th>\n",
       "    </tr>\n",
       "  </thead>\n",
       "  <tbody>\n",
       "    <tr>\n",
       "      <th>1/1/2000</th>\n",
       "      <td>10012</td>\n",
       "      <td>Apples</td>\n",
       "      <td>25</td>\n",
       "      <td>29.50</td>\n",
       "    </tr>\n",
       "    <tr>\n",
       "      <th>1/1/2000</th>\n",
       "      <td>10013</td>\n",
       "      <td>Pears</td>\n",
       "      <td>5</td>\n",
       "      <td>7.60</td>\n",
       "    </tr>\n",
       "    <tr>\n",
       "      <th>1/1/2000</th>\n",
       "      <td>10014</td>\n",
       "      <td>Oranges</td>\n",
       "      <td>29</td>\n",
       "      <td>40.31</td>\n",
       "    </tr>\n",
       "    <tr>\n",
       "      <th>1/1/2000</th>\n",
       "      <td>10015</td>\n",
       "      <td>Grapefruit</td>\n",
       "      <td>4</td>\n",
       "      <td>5.40</td>\n",
       "    </tr>\n",
       "    <tr>\n",
       "      <th>1/5/2000</th>\n",
       "      <td>10012</td>\n",
       "      <td>Apples</td>\n",
       "      <td>17</td>\n",
       "      <td>20.06</td>\n",
       "    </tr>\n",
       "    <tr>\n",
       "      <th>1/5/2000</th>\n",
       "      <td>10013</td>\n",
       "      <td>Pears</td>\n",
       "      <td>3</td>\n",
       "      <td>4.56</td>\n",
       "    </tr>\n",
       "    <tr>\n",
       "      <th>1/5/2000</th>\n",
       "      <td>10014</td>\n",
       "      <td>Oranges</td>\n",
       "      <td>15</td>\n",
       "      <td>20.85</td>\n",
       "    </tr>\n",
       "    <tr>\n",
       "      <th>1/5/2000</th>\n",
       "      <td>10015</td>\n",
       "      <td>Grapefruit</td>\n",
       "      <td>1</td>\n",
       "      <td>1.35</td>\n",
       "    </tr>\n",
       "  </tbody>\n",
       "</table>\n",
       "</div>"
      ],
      "text/plain": [
       "           ProductID     Product  Total lbs Sold  Total\n",
       "Date Sold                                              \n",
       "1/1/2000       10012      Apples              25  29.50\n",
       "1/1/2000       10013       Pears               5   7.60\n",
       "1/1/2000       10014     Oranges              29  40.31\n",
       "1/1/2000       10015  Grapefruit               4   5.40\n",
       "1/5/2000       10012      Apples              17  20.06\n",
       "1/5/2000       10013       Pears               3   4.56\n",
       "1/5/2000       10014     Oranges              15  20.85\n",
       "1/5/2000       10015  Grapefruit               1   1.35"
      ]
     },
     "execution_count": 40,
     "metadata": {},
     "output_type": "execute_result"
    }
   ],
   "source": [
    "df.loc[['1/1/2000', '1/5/2000']]"
   ]
  },
  {
   "cell_type": "markdown",
   "metadata": {},
   "source": [
    "### Subsetting Columns\n",
    "- Columns can be subset by passing the specified column names to the DataFrame in double brackets followed by a comma\n",
    "- `df[[column1, column3, column10]]`\n",
    "- `df[column1]` will return a Series instead"
   ]
  },
  {
   "cell_type": "code",
   "execution_count": 41,
   "metadata": {},
   "outputs": [
    {
     "data": {
      "text/html": [
       "<div>\n",
       "<style scoped>\n",
       "    .dataframe tbody tr th:only-of-type {\n",
       "        vertical-align: middle;\n",
       "    }\n",
       "\n",
       "    .dataframe tbody tr th {\n",
       "        vertical-align: top;\n",
       "    }\n",
       "\n",
       "    .dataframe thead th {\n",
       "        text-align: right;\n",
       "    }\n",
       "</style>\n",
       "<table border=\"1\" class=\"dataframe\">\n",
       "  <thead>\n",
       "    <tr style=\"text-align: right;\">\n",
       "      <th></th>\n",
       "      <th>ProductID</th>\n",
       "      <th>Product</th>\n",
       "      <th>Total</th>\n",
       "    </tr>\n",
       "    <tr>\n",
       "      <th>Date Sold</th>\n",
       "      <th></th>\n",
       "      <th></th>\n",
       "      <th></th>\n",
       "    </tr>\n",
       "  </thead>\n",
       "  <tbody>\n",
       "    <tr>\n",
       "      <th>1/1/2000</th>\n",
       "      <td>10012</td>\n",
       "      <td>Apples</td>\n",
       "      <td>29.50</td>\n",
       "    </tr>\n",
       "    <tr>\n",
       "      <th>1/2/2000</th>\n",
       "      <td>10012</td>\n",
       "      <td>Apples</td>\n",
       "      <td>27.14</td>\n",
       "    </tr>\n",
       "    <tr>\n",
       "      <th>1/3/2000</th>\n",
       "      <td>10012</td>\n",
       "      <td>Apples</td>\n",
       "      <td>34.22</td>\n",
       "    </tr>\n",
       "  </tbody>\n",
       "</table>\n",
       "</div>"
      ],
      "text/plain": [
       "           ProductID Product  Total\n",
       "Date Sold                          \n",
       "1/1/2000       10012  Apples  29.50\n",
       "1/2/2000       10012  Apples  27.14\n",
       "1/3/2000       10012  Apples  34.22"
      ]
     },
     "execution_count": 41,
     "metadata": {},
     "output_type": "execute_result"
    }
   ],
   "source": [
    "df[['ProductID', 'Product', 'Total']].head(3)"
   ]
  },
  {
   "cell_type": "markdown",
   "metadata": {},
   "source": [
    "### Groupby Method\n",
    "- A groupby operation involves some combination of splitting the object, applying a function, and combining the results\n",
    "- `df.groupby(by=['col1','col2'], axis=0))['col_to_aggregate','col_to_aggregate'].aggregate_function`\n"
   ]
  },
  {
   "cell_type": "code",
   "execution_count": 42,
   "metadata": {},
   "outputs": [
    {
     "data": {
      "text/html": [
       "<div>\n",
       "<style scoped>\n",
       "    .dataframe tbody tr th:only-of-type {\n",
       "        vertical-align: middle;\n",
       "    }\n",
       "\n",
       "    .dataframe tbody tr th {\n",
       "        vertical-align: top;\n",
       "    }\n",
       "\n",
       "    .dataframe thead th {\n",
       "        text-align: right;\n",
       "    }\n",
       "</style>\n",
       "<table border=\"1\" class=\"dataframe\">\n",
       "  <thead>\n",
       "    <tr style=\"text-align: right;\">\n",
       "      <th></th>\n",
       "      <th>ProductID</th>\n",
       "      <th>Product</th>\n",
       "      <th>Total lbs Sold</th>\n",
       "      <th>Total</th>\n",
       "    </tr>\n",
       "    <tr>\n",
       "      <th>Date Sold</th>\n",
       "      <th></th>\n",
       "      <th></th>\n",
       "      <th></th>\n",
       "      <th></th>\n",
       "    </tr>\n",
       "  </thead>\n",
       "  <tbody>\n",
       "    <tr>\n",
       "      <th>1/1/2000</th>\n",
       "      <td>10012</td>\n",
       "      <td>Apples</td>\n",
       "      <td>25</td>\n",
       "      <td>29.50</td>\n",
       "    </tr>\n",
       "    <tr>\n",
       "      <th>1/2/2000</th>\n",
       "      <td>10012</td>\n",
       "      <td>Apples</td>\n",
       "      <td>23</td>\n",
       "      <td>27.14</td>\n",
       "    </tr>\n",
       "    <tr>\n",
       "      <th>1/3/2000</th>\n",
       "      <td>10012</td>\n",
       "      <td>Apples</td>\n",
       "      <td>29</td>\n",
       "      <td>34.22</td>\n",
       "    </tr>\n",
       "    <tr>\n",
       "      <th>1/4/2000</th>\n",
       "      <td>10012</td>\n",
       "      <td>Apples</td>\n",
       "      <td>21</td>\n",
       "      <td>24.78</td>\n",
       "    </tr>\n",
       "    <tr>\n",
       "      <th>1/5/2000</th>\n",
       "      <td>10012</td>\n",
       "      <td>Apples</td>\n",
       "      <td>17</td>\n",
       "      <td>20.06</td>\n",
       "    </tr>\n",
       "  </tbody>\n",
       "</table>\n",
       "</div>"
      ],
      "text/plain": [
       "           ProductID Product  Total lbs Sold  Total\n",
       "Date Sold                                          \n",
       "1/1/2000       10012  Apples              25  29.50\n",
       "1/2/2000       10012  Apples              23  27.14\n",
       "1/3/2000       10012  Apples              29  34.22\n",
       "1/4/2000       10012  Apples              21  24.78\n",
       "1/5/2000       10012  Apples              17  20.06"
      ]
     },
     "execution_count": 42,
     "metadata": {},
     "output_type": "execute_result"
    }
   ],
   "source": [
    "df.head()"
   ]
  },
  {
   "cell_type": "markdown",
   "metadata": {},
   "source": [
    "What is the total lbs sold and total over the 15 day time period for each product by name?"
   ]
  },
  {
   "cell_type": "code",
   "execution_count": 43,
   "metadata": {
    "scrolled": true
   },
   "outputs": [
    {
     "data": {
      "text/html": [
       "<div>\n",
       "<style scoped>\n",
       "    .dataframe tbody tr th:only-of-type {\n",
       "        vertical-align: middle;\n",
       "    }\n",
       "\n",
       "    .dataframe tbody tr th {\n",
       "        vertical-align: top;\n",
       "    }\n",
       "\n",
       "    .dataframe thead th {\n",
       "        text-align: right;\n",
       "    }\n",
       "</style>\n",
       "<table border=\"1\" class=\"dataframe\">\n",
       "  <thead>\n",
       "    <tr style=\"text-align: right;\">\n",
       "      <th></th>\n",
       "      <th></th>\n",
       "      <th>Total lbs Sold</th>\n",
       "      <th>Total</th>\n",
       "    </tr>\n",
       "    <tr>\n",
       "      <th>ProductID</th>\n",
       "      <th>Product</th>\n",
       "      <th></th>\n",
       "      <th></th>\n",
       "    </tr>\n",
       "  </thead>\n",
       "  <tbody>\n",
       "    <tr>\n",
       "      <th>10012</th>\n",
       "      <th>Apples</th>\n",
       "      <td>267</td>\n",
       "      <td>315.06</td>\n",
       "    </tr>\n",
       "    <tr>\n",
       "      <th>10013</th>\n",
       "      <th>Pears</th>\n",
       "      <td>223</td>\n",
       "      <td>338.96</td>\n",
       "    </tr>\n",
       "    <tr>\n",
       "      <th>10014</th>\n",
       "      <th>Oranges</th>\n",
       "      <td>265</td>\n",
       "      <td>368.35</td>\n",
       "    </tr>\n",
       "    <tr>\n",
       "      <th>10015</th>\n",
       "      <th>Grapefruit</th>\n",
       "      <td>218</td>\n",
       "      <td>294.30</td>\n",
       "    </tr>\n",
       "  </tbody>\n",
       "</table>\n",
       "</div>"
      ],
      "text/plain": [
       "                      Total lbs Sold   Total\n",
       "ProductID Product                           \n",
       "10012     Apples                 267  315.06\n",
       "10013     Pears                  223  338.96\n",
       "10014     Oranges                265  368.35\n",
       "10015     Grapefruit             218  294.30"
      ]
     },
     "execution_count": 43,
     "metadata": {},
     "output_type": "execute_result"
    }
   ],
   "source": [
    "df.groupby(by=['ProductID','Product'], axis=0)['Total lbs Sold','Total'].sum()"
   ]
  },
  {
   "cell_type": "markdown",
   "metadata": {},
   "source": [
    "### Reshaping/Transforming Data"
   ]
  },
  {
   "cell_type": "code",
   "execution_count": 44,
   "metadata": {},
   "outputs": [],
   "source": [
    "df = pd.read_excel('lbs_sold.xlsx')"
   ]
  },
  {
   "cell_type": "markdown",
   "metadata": {},
   "source": [
    "#### Melting a DataFrame\n",
    "\n",
    "- unpivots a DataFrame from wide format to long format"
   ]
  },
  {
   "cell_type": "code",
   "execution_count": 45,
   "metadata": {},
   "outputs": [
    {
     "data": {
      "text/html": [
       "<div>\n",
       "<style scoped>\n",
       "    .dataframe tbody tr th:only-of-type {\n",
       "        vertical-align: middle;\n",
       "    }\n",
       "\n",
       "    .dataframe tbody tr th {\n",
       "        vertical-align: top;\n",
       "    }\n",
       "\n",
       "    .dataframe thead th {\n",
       "        text-align: right;\n",
       "    }\n",
       "</style>\n",
       "<table border=\"1\" class=\"dataframe\">\n",
       "  <thead>\n",
       "    <tr style=\"text-align: right;\">\n",
       "      <th></th>\n",
       "      <th>Date Sold</th>\n",
       "      <th>Product</th>\n",
       "      <th>Total lbs Sold</th>\n",
       "    </tr>\n",
       "  </thead>\n",
       "  <tbody>\n",
       "    <tr>\n",
       "      <th>0</th>\n",
       "      <td>2000-01-01</td>\n",
       "      <td>Apples</td>\n",
       "      <td>25</td>\n",
       "    </tr>\n",
       "    <tr>\n",
       "      <th>1</th>\n",
       "      <td>2000-01-02</td>\n",
       "      <td>Apples</td>\n",
       "      <td>23</td>\n",
       "    </tr>\n",
       "    <tr>\n",
       "      <th>2</th>\n",
       "      <td>2000-01-03</td>\n",
       "      <td>Apples</td>\n",
       "      <td>29</td>\n",
       "    </tr>\n",
       "    <tr>\n",
       "      <th>3</th>\n",
       "      <td>2000-01-04</td>\n",
       "      <td>Apples</td>\n",
       "      <td>21</td>\n",
       "    </tr>\n",
       "    <tr>\n",
       "      <th>4</th>\n",
       "      <td>2000-01-05</td>\n",
       "      <td>Apples</td>\n",
       "      <td>17</td>\n",
       "    </tr>\n",
       "    <tr>\n",
       "      <th>5</th>\n",
       "      <td>2000-01-06</td>\n",
       "      <td>Apples</td>\n",
       "      <td>6</td>\n",
       "    </tr>\n",
       "    <tr>\n",
       "      <th>6</th>\n",
       "      <td>2000-01-07</td>\n",
       "      <td>Apples</td>\n",
       "      <td>10</td>\n",
       "    </tr>\n",
       "    <tr>\n",
       "      <th>7</th>\n",
       "      <td>2000-01-08</td>\n",
       "      <td>Apples</td>\n",
       "      <td>25</td>\n",
       "    </tr>\n",
       "    <tr>\n",
       "      <th>8</th>\n",
       "      <td>2000-01-09</td>\n",
       "      <td>Apples</td>\n",
       "      <td>28</td>\n",
       "    </tr>\n",
       "    <tr>\n",
       "      <th>9</th>\n",
       "      <td>2000-01-10</td>\n",
       "      <td>Apples</td>\n",
       "      <td>1</td>\n",
       "    </tr>\n",
       "    <tr>\n",
       "      <th>10</th>\n",
       "      <td>2000-01-11</td>\n",
       "      <td>Apples</td>\n",
       "      <td>22</td>\n",
       "    </tr>\n",
       "    <tr>\n",
       "      <th>11</th>\n",
       "      <td>2000-01-12</td>\n",
       "      <td>Apples</td>\n",
       "      <td>11</td>\n",
       "    </tr>\n",
       "    <tr>\n",
       "      <th>12</th>\n",
       "      <td>2000-01-13</td>\n",
       "      <td>Apples</td>\n",
       "      <td>11</td>\n",
       "    </tr>\n",
       "    <tr>\n",
       "      <th>13</th>\n",
       "      <td>2000-01-14</td>\n",
       "      <td>Apples</td>\n",
       "      <td>20</td>\n",
       "    </tr>\n",
       "    <tr>\n",
       "      <th>14</th>\n",
       "      <td>2000-01-15</td>\n",
       "      <td>Apples</td>\n",
       "      <td>18</td>\n",
       "    </tr>\n",
       "    <tr>\n",
       "      <th>15</th>\n",
       "      <td>2000-01-01</td>\n",
       "      <td>Pears</td>\n",
       "      <td>5</td>\n",
       "    </tr>\n",
       "    <tr>\n",
       "      <th>16</th>\n",
       "      <td>2000-01-02</td>\n",
       "      <td>Pears</td>\n",
       "      <td>26</td>\n",
       "    </tr>\n",
       "    <tr>\n",
       "      <th>17</th>\n",
       "      <td>2000-01-03</td>\n",
       "      <td>Pears</td>\n",
       "      <td>13</td>\n",
       "    </tr>\n",
       "    <tr>\n",
       "      <th>18</th>\n",
       "      <td>2000-01-04</td>\n",
       "      <td>Pears</td>\n",
       "      <td>1</td>\n",
       "    </tr>\n",
       "    <tr>\n",
       "      <th>19</th>\n",
       "      <td>2000-01-05</td>\n",
       "      <td>Pears</td>\n",
       "      <td>3</td>\n",
       "    </tr>\n",
       "  </tbody>\n",
       "</table>\n",
       "</div>"
      ],
      "text/plain": [
       "    Date Sold Product  Total lbs Sold\n",
       "0  2000-01-01  Apples              25\n",
       "1  2000-01-02  Apples              23\n",
       "2  2000-01-03  Apples              29\n",
       "3  2000-01-04  Apples              21\n",
       "4  2000-01-05  Apples              17\n",
       "5  2000-01-06  Apples               6\n",
       "6  2000-01-07  Apples              10\n",
       "7  2000-01-08  Apples              25\n",
       "8  2000-01-09  Apples              28\n",
       "9  2000-01-10  Apples               1\n",
       "10 2000-01-11  Apples              22\n",
       "11 2000-01-12  Apples              11\n",
       "12 2000-01-13  Apples              11\n",
       "13 2000-01-14  Apples              20\n",
       "14 2000-01-15  Apples              18\n",
       "15 2000-01-01   Pears               5\n",
       "16 2000-01-02   Pears              26\n",
       "17 2000-01-03   Pears              13\n",
       "18 2000-01-04   Pears               1\n",
       "19 2000-01-05   Pears               3"
      ]
     },
     "execution_count": 45,
     "metadata": {},
     "output_type": "execute_result"
    }
   ],
   "source": [
    "df = pd.melt(df, var_name='Product', value_name='Total lbs Sold', id_vars='Date Sold')\n",
    "df.head(20)"
   ]
  },
  {
   "cell_type": "markdown",
   "metadata": {},
   "source": [
    "#### Merging/Combining DataFrames\n",
    "\n",
    "Joining/combining DataFrame on columns or indexes"
   ]
  },
  {
   "cell_type": "code",
   "execution_count": 46,
   "metadata": {},
   "outputs": [
    {
     "data": {
      "text/html": [
       "<div>\n",
       "<style scoped>\n",
       "    .dataframe tbody tr th:only-of-type {\n",
       "        vertical-align: middle;\n",
       "    }\n",
       "\n",
       "    .dataframe tbody tr th {\n",
       "        vertical-align: top;\n",
       "    }\n",
       "\n",
       "    .dataframe thead th {\n",
       "        text-align: right;\n",
       "    }\n",
       "</style>\n",
       "<table border=\"1\" class=\"dataframe\">\n",
       "  <thead>\n",
       "    <tr style=\"text-align: right;\">\n",
       "      <th></th>\n",
       "      <th>Date Sold</th>\n",
       "      <th>Product</th>\n",
       "      <th>Total lbs Sold</th>\n",
       "      <th>ProductID</th>\n",
       "      <th>Price Per lb</th>\n",
       "    </tr>\n",
       "  </thead>\n",
       "  <tbody>\n",
       "    <tr>\n",
       "      <th>0</th>\n",
       "      <td>2000-01-01</td>\n",
       "      <td>Apples</td>\n",
       "      <td>25</td>\n",
       "      <td>10012</td>\n",
       "      <td>1.18</td>\n",
       "    </tr>\n",
       "    <tr>\n",
       "      <th>1</th>\n",
       "      <td>2000-01-02</td>\n",
       "      <td>Apples</td>\n",
       "      <td>23</td>\n",
       "      <td>10012</td>\n",
       "      <td>1.18</td>\n",
       "    </tr>\n",
       "    <tr>\n",
       "      <th>2</th>\n",
       "      <td>2000-01-03</td>\n",
       "      <td>Apples</td>\n",
       "      <td>29</td>\n",
       "      <td>10012</td>\n",
       "      <td>1.18</td>\n",
       "    </tr>\n",
       "    <tr>\n",
       "      <th>3</th>\n",
       "      <td>2000-01-04</td>\n",
       "      <td>Apples</td>\n",
       "      <td>21</td>\n",
       "      <td>10012</td>\n",
       "      <td>1.18</td>\n",
       "    </tr>\n",
       "    <tr>\n",
       "      <th>4</th>\n",
       "      <td>2000-01-05</td>\n",
       "      <td>Apples</td>\n",
       "      <td>17</td>\n",
       "      <td>10012</td>\n",
       "      <td>1.18</td>\n",
       "    </tr>\n",
       "  </tbody>\n",
       "</table>\n",
       "</div>"
      ],
      "text/plain": [
       "   Date Sold Product  Total lbs Sold ProductID  Price Per lb\n",
       "0 2000-01-01  Apples              25     10012          1.18\n",
       "1 2000-01-02  Apples              23     10012          1.18\n",
       "2 2000-01-03  Apples              29     10012          1.18\n",
       "3 2000-01-04  Apples              21     10012          1.18\n",
       "4 2000-01-05  Apples              17     10012          1.18"
      ]
     },
     "execution_count": 46,
     "metadata": {},
     "output_type": "execute_result"
    }
   ],
   "source": [
    "df3 = pd.merge(df, df2, how='left', on='Product')\n",
    "df3.head(5)"
   ]
  },
  {
   "cell_type": "code",
   "execution_count": 47,
   "metadata": {},
   "outputs": [
    {
     "data": {
      "text/html": [
       "<div>\n",
       "<style scoped>\n",
       "    .dataframe tbody tr th:only-of-type {\n",
       "        vertical-align: middle;\n",
       "    }\n",
       "\n",
       "    .dataframe tbody tr th {\n",
       "        vertical-align: top;\n",
       "    }\n",
       "\n",
       "    .dataframe thead th {\n",
       "        text-align: right;\n",
       "    }\n",
       "</style>\n",
       "<table border=\"1\" class=\"dataframe\">\n",
       "  <thead>\n",
       "    <tr style=\"text-align: right;\">\n",
       "      <th></th>\n",
       "      <th>ProductID</th>\n",
       "      <th>Product</th>\n",
       "      <th>Date Sold</th>\n",
       "      <th>Total lbs Sold</th>\n",
       "      <th>Price Per lb</th>\n",
       "    </tr>\n",
       "  </thead>\n",
       "  <tbody>\n",
       "    <tr>\n",
       "      <th>0</th>\n",
       "      <td>10012</td>\n",
       "      <td>Apples</td>\n",
       "      <td>2000-01-01</td>\n",
       "      <td>25</td>\n",
       "      <td>1.18</td>\n",
       "    </tr>\n",
       "    <tr>\n",
       "      <th>1</th>\n",
       "      <td>10012</td>\n",
       "      <td>Apples</td>\n",
       "      <td>2000-01-02</td>\n",
       "      <td>23</td>\n",
       "      <td>1.18</td>\n",
       "    </tr>\n",
       "    <tr>\n",
       "      <th>2</th>\n",
       "      <td>10012</td>\n",
       "      <td>Apples</td>\n",
       "      <td>2000-01-03</td>\n",
       "      <td>29</td>\n",
       "      <td>1.18</td>\n",
       "    </tr>\n",
       "  </tbody>\n",
       "</table>\n",
       "</div>"
      ],
      "text/plain": [
       "  ProductID Product  Date Sold  Total lbs Sold  Price Per lb\n",
       "0     10012  Apples 2000-01-01              25          1.18\n",
       "1     10012  Apples 2000-01-02              23          1.18\n",
       "2     10012  Apples 2000-01-03              29          1.18"
      ]
     },
     "execution_count": 47,
     "metadata": {},
     "output_type": "execute_result"
    }
   ],
   "source": [
    "df3 = df3[['ProductID', 'Product', 'Date Sold', 'Total lbs Sold', 'Price Per lb']]\n",
    "df3.head(3)"
   ]
  },
  {
   "cell_type": "code",
   "execution_count": 48,
   "metadata": {},
   "outputs": [
    {
     "data": {
      "text/html": [
       "<div>\n",
       "<style scoped>\n",
       "    .dataframe tbody tr th:only-of-type {\n",
       "        vertical-align: middle;\n",
       "    }\n",
       "\n",
       "    .dataframe tbody tr th {\n",
       "        vertical-align: top;\n",
       "    }\n",
       "\n",
       "    .dataframe thead th {\n",
       "        text-align: right;\n",
       "    }\n",
       "</style>\n",
       "<table border=\"1\" class=\"dataframe\">\n",
       "  <thead>\n",
       "    <tr style=\"text-align: right;\">\n",
       "      <th></th>\n",
       "      <th>ProductID</th>\n",
       "      <th>Product</th>\n",
       "      <th>Date Sold</th>\n",
       "      <th>Total lbs Sold</th>\n",
       "      <th>Price Per lb</th>\n",
       "      <th>Total</th>\n",
       "    </tr>\n",
       "  </thead>\n",
       "  <tbody>\n",
       "    <tr>\n",
       "      <th>0</th>\n",
       "      <td>10012</td>\n",
       "      <td>Apples</td>\n",
       "      <td>2000-01-01</td>\n",
       "      <td>25</td>\n",
       "      <td>1.18</td>\n",
       "      <td>29.50</td>\n",
       "    </tr>\n",
       "    <tr>\n",
       "      <th>1</th>\n",
       "      <td>10012</td>\n",
       "      <td>Apples</td>\n",
       "      <td>2000-01-02</td>\n",
       "      <td>23</td>\n",
       "      <td>1.18</td>\n",
       "      <td>27.14</td>\n",
       "    </tr>\n",
       "    <tr>\n",
       "      <th>2</th>\n",
       "      <td>10012</td>\n",
       "      <td>Apples</td>\n",
       "      <td>2000-01-03</td>\n",
       "      <td>29</td>\n",
       "      <td>1.18</td>\n",
       "      <td>34.22</td>\n",
       "    </tr>\n",
       "    <tr>\n",
       "      <th>3</th>\n",
       "      <td>10012</td>\n",
       "      <td>Apples</td>\n",
       "      <td>2000-01-04</td>\n",
       "      <td>21</td>\n",
       "      <td>1.18</td>\n",
       "      <td>24.78</td>\n",
       "    </tr>\n",
       "    <tr>\n",
       "      <th>4</th>\n",
       "      <td>10012</td>\n",
       "      <td>Apples</td>\n",
       "      <td>2000-01-05</td>\n",
       "      <td>17</td>\n",
       "      <td>1.18</td>\n",
       "      <td>20.06</td>\n",
       "    </tr>\n",
       "  </tbody>\n",
       "</table>\n",
       "</div>"
      ],
      "text/plain": [
       "  ProductID Product  Date Sold  Total lbs Sold  Price Per lb  Total\n",
       "0     10012  Apples 2000-01-01              25          1.18  29.50\n",
       "1     10012  Apples 2000-01-02              23          1.18  27.14\n",
       "2     10012  Apples 2000-01-03              29          1.18  34.22\n",
       "3     10012  Apples 2000-01-04              21          1.18  24.78\n",
       "4     10012  Apples 2000-01-05              17          1.18  20.06"
      ]
     },
     "execution_count": 48,
     "metadata": {},
     "output_type": "execute_result"
    }
   ],
   "source": [
    "df3['Total'] = df3['Total lbs Sold'] * df3['Price Per lb']\n",
    "df3.head()"
   ]
  },
  {
   "cell_type": "markdown",
   "metadata": {},
   "source": [
    "#### Pivoting DataFrames\n",
    "\n",
    "- creates a spreadsheet-style pivot table as a DataFrame"
   ]
  },
  {
   "cell_type": "code",
   "execution_count": 49,
   "metadata": {},
   "outputs": [
    {
     "data": {
      "text/html": [
       "<div>\n",
       "<style scoped>\n",
       "    .dataframe tbody tr th:only-of-type {\n",
       "        vertical-align: middle;\n",
       "    }\n",
       "\n",
       "    .dataframe tbody tr th {\n",
       "        vertical-align: top;\n",
       "    }\n",
       "\n",
       "    .dataframe thead tr th {\n",
       "        text-align: left;\n",
       "    }\n",
       "\n",
       "    .dataframe thead tr:last-of-type th {\n",
       "        text-align: right;\n",
       "    }\n",
       "</style>\n",
       "<table border=\"1\" class=\"dataframe\">\n",
       "  <thead>\n",
       "    <tr>\n",
       "      <th></th>\n",
       "      <th colspan=\"4\" halign=\"left\">Total lbs Sold</th>\n",
       "    </tr>\n",
       "    <tr>\n",
       "      <th>Product</th>\n",
       "      <th>Apples</th>\n",
       "      <th>Grapefruit</th>\n",
       "      <th>Oranges</th>\n",
       "      <th>Pears</th>\n",
       "    </tr>\n",
       "    <tr>\n",
       "      <th>Date Sold</th>\n",
       "      <th></th>\n",
       "      <th></th>\n",
       "      <th></th>\n",
       "      <th></th>\n",
       "    </tr>\n",
       "  </thead>\n",
       "  <tbody>\n",
       "    <tr>\n",
       "      <th>2000-01-01</th>\n",
       "      <td>25</td>\n",
       "      <td>4</td>\n",
       "      <td>29</td>\n",
       "      <td>5</td>\n",
       "    </tr>\n",
       "    <tr>\n",
       "      <th>2000-01-02</th>\n",
       "      <td>23</td>\n",
       "      <td>15</td>\n",
       "      <td>22</td>\n",
       "      <td>26</td>\n",
       "    </tr>\n",
       "    <tr>\n",
       "      <th>2000-01-03</th>\n",
       "      <td>29</td>\n",
       "      <td>21</td>\n",
       "      <td>15</td>\n",
       "      <td>13</td>\n",
       "    </tr>\n",
       "    <tr>\n",
       "      <th>2000-01-04</th>\n",
       "      <td>21</td>\n",
       "      <td>21</td>\n",
       "      <td>17</td>\n",
       "      <td>1</td>\n",
       "    </tr>\n",
       "    <tr>\n",
       "      <th>2000-01-05</th>\n",
       "      <td>17</td>\n",
       "      <td>1</td>\n",
       "      <td>15</td>\n",
       "      <td>3</td>\n",
       "    </tr>\n",
       "    <tr>\n",
       "      <th>2000-01-06</th>\n",
       "      <td>6</td>\n",
       "      <td>21</td>\n",
       "      <td>13</td>\n",
       "      <td>5</td>\n",
       "    </tr>\n",
       "    <tr>\n",
       "      <th>2000-01-07</th>\n",
       "      <td>10</td>\n",
       "      <td>28</td>\n",
       "      <td>23</td>\n",
       "      <td>3</td>\n",
       "    </tr>\n",
       "    <tr>\n",
       "      <th>2000-01-08</th>\n",
       "      <td>25</td>\n",
       "      <td>16</td>\n",
       "      <td>22</td>\n",
       "      <td>25</td>\n",
       "    </tr>\n",
       "    <tr>\n",
       "      <th>2000-01-09</th>\n",
       "      <td>28</td>\n",
       "      <td>12</td>\n",
       "      <td>23</td>\n",
       "      <td>26</td>\n",
       "    </tr>\n",
       "    <tr>\n",
       "      <th>2000-01-10</th>\n",
       "      <td>1</td>\n",
       "      <td>14</td>\n",
       "      <td>12</td>\n",
       "      <td>15</td>\n",
       "    </tr>\n",
       "    <tr>\n",
       "      <th>2000-01-11</th>\n",
       "      <td>22</td>\n",
       "      <td>24</td>\n",
       "      <td>15</td>\n",
       "      <td>13</td>\n",
       "    </tr>\n",
       "    <tr>\n",
       "      <th>2000-01-12</th>\n",
       "      <td>11</td>\n",
       "      <td>9</td>\n",
       "      <td>28</td>\n",
       "      <td>22</td>\n",
       "    </tr>\n",
       "    <tr>\n",
       "      <th>2000-01-13</th>\n",
       "      <td>11</td>\n",
       "      <td>13</td>\n",
       "      <td>12</td>\n",
       "      <td>21</td>\n",
       "    </tr>\n",
       "    <tr>\n",
       "      <th>2000-01-14</th>\n",
       "      <td>20</td>\n",
       "      <td>13</td>\n",
       "      <td>11</td>\n",
       "      <td>26</td>\n",
       "    </tr>\n",
       "    <tr>\n",
       "      <th>2000-01-15</th>\n",
       "      <td>18</td>\n",
       "      <td>6</td>\n",
       "      <td>8</td>\n",
       "      <td>19</td>\n",
       "    </tr>\n",
       "  </tbody>\n",
       "</table>\n",
       "</div>"
      ],
      "text/plain": [
       "           Total lbs Sold                         \n",
       "Product            Apples Grapefruit Oranges Pears\n",
       "Date Sold                                         \n",
       "2000-01-01             25          4      29     5\n",
       "2000-01-02             23         15      22    26\n",
       "2000-01-03             29         21      15    13\n",
       "2000-01-04             21         21      17     1\n",
       "2000-01-05             17          1      15     3\n",
       "2000-01-06              6         21      13     5\n",
       "2000-01-07             10         28      23     3\n",
       "2000-01-08             25         16      22    25\n",
       "2000-01-09             28         12      23    26\n",
       "2000-01-10              1         14      12    15\n",
       "2000-01-11             22         24      15    13\n",
       "2000-01-12             11          9      28    22\n",
       "2000-01-13             11         13      12    21\n",
       "2000-01-14             20         13      11    26\n",
       "2000-01-15             18          6       8    19"
      ]
     },
     "execution_count": 49,
     "metadata": {},
     "output_type": "execute_result"
    }
   ],
   "source": [
    "pd.pivot_table(df3, values=['Total lbs Sold'], columns='Product', index='Date Sold')"
   ]
  }
 ],
 "metadata": {
  "kernelspec": {
   "display_name": "Python 3",
   "language": "python",
   "name": "python3"
  },
  "language_info": {
   "codemirror_mode": {
    "name": "ipython",
    "version": 3
   },
   "file_extension": ".py",
   "mimetype": "text/x-python",
   "name": "python",
   "nbconvert_exporter": "python",
   "pygments_lexer": "ipython3",
   "version": "3.7.4"
  }
 },
 "nbformat": 4,
 "nbformat_minor": 4
}
